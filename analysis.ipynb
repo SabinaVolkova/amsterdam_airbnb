{
 "cells": [
  {
   "cell_type": "code",
   "execution_count": 113,
   "metadata": {},
   "outputs": [],
   "source": [
    "import pandas as pd \n",
    "import seaborn as sns \n",
    "import matplotlib.pyplot as plt \n",
    "import folium\n",
    "import plotly.express as px"
   ]
  },
  {
   "cell_type": "code",
   "execution_count": 44,
   "metadata": {},
   "outputs": [],
   "source": [
    "pd.set_option('display.max_columns', None)"
   ]
  },
  {
   "cell_type": "code",
   "execution_count": 45,
   "metadata": {},
   "outputs": [
    {
     "data": {
      "text/html": [
       "<div>\n",
       "<style scoped>\n",
       "    .dataframe tbody tr th:only-of-type {\n",
       "        vertical-align: middle;\n",
       "    }\n",
       "\n",
       "    .dataframe tbody tr th {\n",
       "        vertical-align: top;\n",
       "    }\n",
       "\n",
       "    .dataframe thead th {\n",
       "        text-align: right;\n",
       "    }\n",
       "</style>\n",
       "<table border=\"1\" class=\"dataframe\">\n",
       "  <thead>\n",
       "    <tr style=\"text-align: right;\">\n",
       "      <th></th>\n",
       "      <th>listing_url</th>\n",
       "      <th>scrape_id</th>\n",
       "      <th>last_scraped</th>\n",
       "      <th>source</th>\n",
       "      <th>name</th>\n",
       "      <th>description</th>\n",
       "      <th>neighborhood_overview</th>\n",
       "      <th>picture_url</th>\n",
       "      <th>host_id</th>\n",
       "      <th>host_url</th>\n",
       "      <th>host_name</th>\n",
       "      <th>host_since</th>\n",
       "      <th>host_location</th>\n",
       "      <th>host_about</th>\n",
       "      <th>host_response_time</th>\n",
       "      <th>host_response_rate</th>\n",
       "      <th>host_acceptance_rate</th>\n",
       "      <th>host_is_superhost</th>\n",
       "      <th>host_thumbnail_url</th>\n",
       "      <th>host_picture_url</th>\n",
       "      <th>host_neighbourhood</th>\n",
       "      <th>host_listings_count</th>\n",
       "      <th>host_total_listings_count</th>\n",
       "      <th>host_verifications</th>\n",
       "      <th>host_has_profile_pic</th>\n",
       "      <th>host_identity_verified</th>\n",
       "      <th>neighbourhood</th>\n",
       "      <th>neighbourhood_cleansed</th>\n",
       "      <th>neighbourhood_group_cleansed</th>\n",
       "      <th>latitude</th>\n",
       "      <th>longitude</th>\n",
       "      <th>property_type</th>\n",
       "      <th>room_type</th>\n",
       "      <th>accommodates</th>\n",
       "      <th>bathrooms</th>\n",
       "      <th>bathrooms_text</th>\n",
       "      <th>bedrooms</th>\n",
       "      <th>beds</th>\n",
       "      <th>amenities</th>\n",
       "      <th>price</th>\n",
       "      <th>minimum_nights</th>\n",
       "      <th>maximum_nights</th>\n",
       "      <th>minimum_minimum_nights</th>\n",
       "      <th>maximum_minimum_nights</th>\n",
       "      <th>minimum_maximum_nights</th>\n",
       "      <th>maximum_maximum_nights</th>\n",
       "      <th>minimum_nights_avg_ntm</th>\n",
       "      <th>maximum_nights_avg_ntm</th>\n",
       "      <th>calendar_updated</th>\n",
       "      <th>has_availability</th>\n",
       "      <th>availability_30</th>\n",
       "      <th>availability_60</th>\n",
       "      <th>availability_90</th>\n",
       "      <th>availability_365</th>\n",
       "      <th>calendar_last_scraped</th>\n",
       "      <th>number_of_reviews</th>\n",
       "      <th>number_of_reviews_ltm</th>\n",
       "      <th>number_of_reviews_l30d</th>\n",
       "      <th>availability_eoy</th>\n",
       "      <th>number_of_reviews_ly</th>\n",
       "      <th>estimated_occupancy_l365d</th>\n",
       "      <th>estimated_revenue_l365d</th>\n",
       "      <th>first_review</th>\n",
       "      <th>last_review</th>\n",
       "      <th>review_scores_rating</th>\n",
       "      <th>review_scores_accuracy</th>\n",
       "      <th>review_scores_cleanliness</th>\n",
       "      <th>review_scores_checkin</th>\n",
       "      <th>review_scores_communication</th>\n",
       "      <th>review_scores_location</th>\n",
       "      <th>review_scores_value</th>\n",
       "      <th>license</th>\n",
       "      <th>instant_bookable</th>\n",
       "      <th>calculated_host_listings_count</th>\n",
       "      <th>calculated_host_listings_count_entire_homes</th>\n",
       "      <th>calculated_host_listings_count_private_rooms</th>\n",
       "      <th>calculated_host_listings_count_shared_rooms</th>\n",
       "      <th>reviews_per_month</th>\n",
       "    </tr>\n",
       "    <tr>\n",
       "      <th>id</th>\n",
       "      <th></th>\n",
       "      <th></th>\n",
       "      <th></th>\n",
       "      <th></th>\n",
       "      <th></th>\n",
       "      <th></th>\n",
       "      <th></th>\n",
       "      <th></th>\n",
       "      <th></th>\n",
       "      <th></th>\n",
       "      <th></th>\n",
       "      <th></th>\n",
       "      <th></th>\n",
       "      <th></th>\n",
       "      <th></th>\n",
       "      <th></th>\n",
       "      <th></th>\n",
       "      <th></th>\n",
       "      <th></th>\n",
       "      <th></th>\n",
       "      <th></th>\n",
       "      <th></th>\n",
       "      <th></th>\n",
       "      <th></th>\n",
       "      <th></th>\n",
       "      <th></th>\n",
       "      <th></th>\n",
       "      <th></th>\n",
       "      <th></th>\n",
       "      <th></th>\n",
       "      <th></th>\n",
       "      <th></th>\n",
       "      <th></th>\n",
       "      <th></th>\n",
       "      <th></th>\n",
       "      <th></th>\n",
       "      <th></th>\n",
       "      <th></th>\n",
       "      <th></th>\n",
       "      <th></th>\n",
       "      <th></th>\n",
       "      <th></th>\n",
       "      <th></th>\n",
       "      <th></th>\n",
       "      <th></th>\n",
       "      <th></th>\n",
       "      <th></th>\n",
       "      <th></th>\n",
       "      <th></th>\n",
       "      <th></th>\n",
       "      <th></th>\n",
       "      <th></th>\n",
       "      <th></th>\n",
       "      <th></th>\n",
       "      <th></th>\n",
       "      <th></th>\n",
       "      <th></th>\n",
       "      <th></th>\n",
       "      <th></th>\n",
       "      <th></th>\n",
       "      <th></th>\n",
       "      <th></th>\n",
       "      <th></th>\n",
       "      <th></th>\n",
       "      <th></th>\n",
       "      <th></th>\n",
       "      <th></th>\n",
       "      <th></th>\n",
       "      <th></th>\n",
       "      <th></th>\n",
       "      <th></th>\n",
       "      <th></th>\n",
       "      <th></th>\n",
       "      <th></th>\n",
       "      <th></th>\n",
       "      <th></th>\n",
       "      <th></th>\n",
       "      <th></th>\n",
       "    </tr>\n",
       "  </thead>\n",
       "  <tbody>\n",
       "    <tr>\n",
       "      <th>27886</th>\n",
       "      <td>https://www.airbnb.com/rooms/27886</td>\n",
       "      <td>20250609011745</td>\n",
       "      <td>2025-06-17</td>\n",
       "      <td>city scrape</td>\n",
       "      <td>Romantic, stylish B&amp;B houseboat in canal district</td>\n",
       "      <td>Stylish and romantic houseboat on fantastic hi...</td>\n",
       "      <td>Central, quiet, safe, clean and beautiful.</td>\n",
       "      <td>https://a0.muscache.com/pictures/02c2da9d-660e...</td>\n",
       "      <td>97647</td>\n",
       "      <td>https://www.airbnb.com/users/show/97647</td>\n",
       "      <td>Flip</td>\n",
       "      <td>2010-03-23</td>\n",
       "      <td>Amsterdam, Netherlands</td>\n",
       "      <td>Marjan works in \"eye\" the dutch filmmuseum, an...</td>\n",
       "      <td>within an hour</td>\n",
       "      <td>100%</td>\n",
       "      <td>98%</td>\n",
       "      <td>t</td>\n",
       "      <td>https://a0.muscache.com/im/users/97647/profile...</td>\n",
       "      <td>https://a0.muscache.com/im/users/97647/profile...</td>\n",
       "      <td>Westelijke Eilanden</td>\n",
       "      <td>1.0</td>\n",
       "      <td>1.0</td>\n",
       "      <td>['email', 'phone']</td>\n",
       "      <td>t</td>\n",
       "      <td>t</td>\n",
       "      <td>Amsterdam, North Holland, Netherlands</td>\n",
       "      <td>Centrum-West</td>\n",
       "      <td>NaN</td>\n",
       "      <td>52.38761</td>\n",
       "      <td>4.89188</td>\n",
       "      <td>Private room in houseboat</td>\n",
       "      <td>Private room</td>\n",
       "      <td>2</td>\n",
       "      <td>1.5</td>\n",
       "      <td>1.5 baths</td>\n",
       "      <td>1.0</td>\n",
       "      <td>1.0</td>\n",
       "      <td>[\"Coffee maker: Nespresso\", \"Shampoo\", \"Paid s...</td>\n",
       "      <td>$132.00</td>\n",
       "      <td>3</td>\n",
       "      <td>356</td>\n",
       "      <td>3</td>\n",
       "      <td>3</td>\n",
       "      <td>30</td>\n",
       "      <td>30</td>\n",
       "      <td>3.0</td>\n",
       "      <td>30.0</td>\n",
       "      <td>NaN</td>\n",
       "      <td>t</td>\n",
       "      <td>0</td>\n",
       "      <td>0</td>\n",
       "      <td>0</td>\n",
       "      <td>53</td>\n",
       "      <td>2025-06-17</td>\n",
       "      <td>302</td>\n",
       "      <td>28</td>\n",
       "      <td>1</td>\n",
       "      <td>53</td>\n",
       "      <td>26</td>\n",
       "      <td>218</td>\n",
       "      <td>28776.0</td>\n",
       "      <td>2012-01-09</td>\n",
       "      <td>2025-06-11</td>\n",
       "      <td>4.92</td>\n",
       "      <td>4.90</td>\n",
       "      <td>4.94</td>\n",
       "      <td>4.95</td>\n",
       "      <td>4.92</td>\n",
       "      <td>4.90</td>\n",
       "      <td>4.78</td>\n",
       "      <td>0363 974D 4986 7411 88D8</td>\n",
       "      <td>f</td>\n",
       "      <td>1</td>\n",
       "      <td>0</td>\n",
       "      <td>1</td>\n",
       "      <td>0</td>\n",
       "      <td>1.85</td>\n",
       "    </tr>\n",
       "    <tr>\n",
       "      <th>28871</th>\n",
       "      <td>https://www.airbnb.com/rooms/28871</td>\n",
       "      <td>20250609011745</td>\n",
       "      <td>2025-06-17</td>\n",
       "      <td>city scrape</td>\n",
       "      <td>Comfortable double room</td>\n",
       "      <td>Basic bedroom in the center of Amsterdam.</td>\n",
       "      <td>Flower market , Leidseplein , Rembrantsplein</td>\n",
       "      <td>https://a0.muscache.com/pictures/160889/362340...</td>\n",
       "      <td>124245</td>\n",
       "      <td>https://www.airbnb.com/users/show/124245</td>\n",
       "      <td>Edwin</td>\n",
       "      <td>2010-05-13</td>\n",
       "      <td>Amsterdam, Netherlands</td>\n",
       "      <td>Hi</td>\n",
       "      <td>within an hour</td>\n",
       "      <td>100%</td>\n",
       "      <td>99%</td>\n",
       "      <td>t</td>\n",
       "      <td>https://a0.muscache.com/im/pictures/user/9986b...</td>\n",
       "      <td>https://a0.muscache.com/im/pictures/user/9986b...</td>\n",
       "      <td>Amsterdam Centrum</td>\n",
       "      <td>2.0</td>\n",
       "      <td>2.0</td>\n",
       "      <td>['email', 'phone']</td>\n",
       "      <td>t</td>\n",
       "      <td>t</td>\n",
       "      <td>Amsterdam, North Holland, Netherlands</td>\n",
       "      <td>Centrum-West</td>\n",
       "      <td>NaN</td>\n",
       "      <td>52.36775</td>\n",
       "      <td>4.89092</td>\n",
       "      <td>Private room in rental unit</td>\n",
       "      <td>Private room</td>\n",
       "      <td>2</td>\n",
       "      <td>1.0</td>\n",
       "      <td>1 shared bath</td>\n",
       "      <td>1.0</td>\n",
       "      <td>1.0</td>\n",
       "      <td>[\"Carbon monoxide alarm\", \"Wifi\", \"Heating\", \"...</td>\n",
       "      <td>$78.00</td>\n",
       "      <td>2</td>\n",
       "      <td>730</td>\n",
       "      <td>1</td>\n",
       "      <td>2</td>\n",
       "      <td>730</td>\n",
       "      <td>730</td>\n",
       "      <td>2.0</td>\n",
       "      <td>730.0</td>\n",
       "      <td>NaN</td>\n",
       "      <td>t</td>\n",
       "      <td>1</td>\n",
       "      <td>2</td>\n",
       "      <td>4</td>\n",
       "      <td>130</td>\n",
       "      <td>2025-06-17</td>\n",
       "      <td>710</td>\n",
       "      <td>93</td>\n",
       "      <td>9</td>\n",
       "      <td>31</td>\n",
       "      <td>96</td>\n",
       "      <td>255</td>\n",
       "      <td>19890.0</td>\n",
       "      <td>2010-08-22</td>\n",
       "      <td>2025-06-16</td>\n",
       "      <td>4.88</td>\n",
       "      <td>4.90</td>\n",
       "      <td>4.87</td>\n",
       "      <td>4.94</td>\n",
       "      <td>4.94</td>\n",
       "      <td>4.94</td>\n",
       "      <td>4.84</td>\n",
       "      <td>0363 607B EA74 0BD8 2F6F</td>\n",
       "      <td>f</td>\n",
       "      <td>2</td>\n",
       "      <td>0</td>\n",
       "      <td>2</td>\n",
       "      <td>0</td>\n",
       "      <td>3.93</td>\n",
       "    </tr>\n",
       "    <tr>\n",
       "      <th>29051</th>\n",
       "      <td>https://www.airbnb.com/rooms/29051</td>\n",
       "      <td>20250609011745</td>\n",
       "      <td>2025-06-17</td>\n",
       "      <td>city scrape</td>\n",
       "      <td>Comfortable single / double room</td>\n",
       "      <td>This room can also be rented as a single or a ...</td>\n",
       "      <td>the street is quite lively especially on weeke...</td>\n",
       "      <td>https://a0.muscache.com/pictures/162009/bd6be2...</td>\n",
       "      <td>124245</td>\n",
       "      <td>https://www.airbnb.com/users/show/124245</td>\n",
       "      <td>Edwin</td>\n",
       "      <td>2010-05-13</td>\n",
       "      <td>Amsterdam, Netherlands</td>\n",
       "      <td>Hi</td>\n",
       "      <td>within an hour</td>\n",
       "      <td>100%</td>\n",
       "      <td>99%</td>\n",
       "      <td>t</td>\n",
       "      <td>https://a0.muscache.com/im/pictures/user/9986b...</td>\n",
       "      <td>https://a0.muscache.com/im/pictures/user/9986b...</td>\n",
       "      <td>Amsterdam Centrum</td>\n",
       "      <td>2.0</td>\n",
       "      <td>2.0</td>\n",
       "      <td>['email', 'phone']</td>\n",
       "      <td>t</td>\n",
       "      <td>t</td>\n",
       "      <td>Amsterdam, North Holland, Netherlands</td>\n",
       "      <td>Centrum-Oost</td>\n",
       "      <td>NaN</td>\n",
       "      <td>52.36584</td>\n",
       "      <td>4.89111</td>\n",
       "      <td>Private room in condo</td>\n",
       "      <td>Private room</td>\n",
       "      <td>2</td>\n",
       "      <td>1.0</td>\n",
       "      <td>1 shared bath</td>\n",
       "      <td>1.0</td>\n",
       "      <td>1.0</td>\n",
       "      <td>[\"Carbon monoxide alarm\", \"Wifi\", \"Heating\", \"...</td>\n",
       "      <td>$70.00</td>\n",
       "      <td>2</td>\n",
       "      <td>730</td>\n",
       "      <td>1</td>\n",
       "      <td>2</td>\n",
       "      <td>730</td>\n",
       "      <td>730</td>\n",
       "      <td>2.0</td>\n",
       "      <td>730.0</td>\n",
       "      <td>NaN</td>\n",
       "      <td>t</td>\n",
       "      <td>0</td>\n",
       "      <td>1</td>\n",
       "      <td>3</td>\n",
       "      <td>121</td>\n",
       "      <td>2025-06-17</td>\n",
       "      <td>822</td>\n",
       "      <td>86</td>\n",
       "      <td>7</td>\n",
       "      <td>20</td>\n",
       "      <td>88</td>\n",
       "      <td>255</td>\n",
       "      <td>17850.0</td>\n",
       "      <td>2011-03-16</td>\n",
       "      <td>2025-06-14</td>\n",
       "      <td>4.81</td>\n",
       "      <td>4.88</td>\n",
       "      <td>4.83</td>\n",
       "      <td>4.93</td>\n",
       "      <td>4.92</td>\n",
       "      <td>4.87</td>\n",
       "      <td>4.79</td>\n",
       "      <td>0363 607B EA74 0BD8 2F6F</td>\n",
       "      <td>f</td>\n",
       "      <td>2</td>\n",
       "      <td>0</td>\n",
       "      <td>2</td>\n",
       "      <td>0</td>\n",
       "      <td>4.74</td>\n",
       "    </tr>\n",
       "    <tr>\n",
       "      <th>44391</th>\n",
       "      <td>https://www.airbnb.com/rooms/44391</td>\n",
       "      <td>20250609011745</td>\n",
       "      <td>2025-06-17</td>\n",
       "      <td>previous scrape</td>\n",
       "      <td>Quiet 2-bedroom Amsterdam city centre apartment</td>\n",
       "      <td>Guests greatly appreciate the unique location ...</td>\n",
       "      <td>The appartment is located in the city centre. ...</td>\n",
       "      <td>https://a0.muscache.com/pictures/97741545/3900...</td>\n",
       "      <td>194779</td>\n",
       "      <td>https://www.airbnb.com/users/show/194779</td>\n",
       "      <td>Jan</td>\n",
       "      <td>2010-08-08</td>\n",
       "      <td>Amsterdam, Netherlands</td>\n",
       "      <td>Love to travel while hosting and to host while...</td>\n",
       "      <td>NaN</td>\n",
       "      <td>NaN</td>\n",
       "      <td>NaN</td>\n",
       "      <td>f</td>\n",
       "      <td>https://a0.muscache.com/im/users/194779/profil...</td>\n",
       "      <td>https://a0.muscache.com/im/users/194779/profil...</td>\n",
       "      <td>Oostelijke Eilanden en Kadijken</td>\n",
       "      <td>1.0</td>\n",
       "      <td>1.0</td>\n",
       "      <td>['email', 'phone']</td>\n",
       "      <td>t</td>\n",
       "      <td>t</td>\n",
       "      <td>Amsterdam, Noord-Holland, Netherlands</td>\n",
       "      <td>Centrum-Oost</td>\n",
       "      <td>NaN</td>\n",
       "      <td>52.37168</td>\n",
       "      <td>4.91471</td>\n",
       "      <td>Entire rental unit</td>\n",
       "      <td>Entire home/apt</td>\n",
       "      <td>4</td>\n",
       "      <td>NaN</td>\n",
       "      <td>1.5 baths</td>\n",
       "      <td>2.0</td>\n",
       "      <td>NaN</td>\n",
       "      <td>[\"Shampoo\", \"Essentials\", \"Dishwasher\", \"Paid ...</td>\n",
       "      <td>NaN</td>\n",
       "      <td>3</td>\n",
       "      <td>730</td>\n",
       "      <td>3</td>\n",
       "      <td>3</td>\n",
       "      <td>730</td>\n",
       "      <td>730</td>\n",
       "      <td>3.0</td>\n",
       "      <td>730.0</td>\n",
       "      <td>NaN</td>\n",
       "      <td>t</td>\n",
       "      <td>0</td>\n",
       "      <td>0</td>\n",
       "      <td>0</td>\n",
       "      <td>0</td>\n",
       "      <td>2025-06-17</td>\n",
       "      <td>42</td>\n",
       "      <td>0</td>\n",
       "      <td>0</td>\n",
       "      <td>0</td>\n",
       "      <td>0</td>\n",
       "      <td>0</td>\n",
       "      <td>NaN</td>\n",
       "      <td>2010-09-16</td>\n",
       "      <td>2022-08-20</td>\n",
       "      <td>4.71</td>\n",
       "      <td>4.68</td>\n",
       "      <td>4.49</td>\n",
       "      <td>4.95</td>\n",
       "      <td>4.90</td>\n",
       "      <td>4.68</td>\n",
       "      <td>4.50</td>\n",
       "      <td>0363 E76E F06A C1DD 172C</td>\n",
       "      <td>f</td>\n",
       "      <td>1</td>\n",
       "      <td>1</td>\n",
       "      <td>0</td>\n",
       "      <td>0</td>\n",
       "      <td>0.23</td>\n",
       "    </tr>\n",
       "    <tr>\n",
       "      <th>47061</th>\n",
       "      <td>https://www.airbnb.com/rooms/47061</td>\n",
       "      <td>20250609011745</td>\n",
       "      <td>2025-06-17</td>\n",
       "      <td>city scrape</td>\n",
       "      <td>Charming apartment in old centre</td>\n",
       "      <td>A beautiful, quiet apartment in the center of ...</td>\n",
       "      <td>NaN</td>\n",
       "      <td>https://a0.muscache.com/pictures/268343/a08ce2...</td>\n",
       "      <td>211696</td>\n",
       "      <td>https://www.airbnb.com/users/show/211696</td>\n",
       "      <td>Ivar</td>\n",
       "      <td>2010-08-24</td>\n",
       "      <td>Netherlands</td>\n",
       "      <td>Hi, I am a freelance theatre director and comp...</td>\n",
       "      <td>within a few hours</td>\n",
       "      <td>100%</td>\n",
       "      <td>50%</td>\n",
       "      <td>f</td>\n",
       "      <td>https://a0.muscache.com/im/pictures/user/0a2a3...</td>\n",
       "      <td>https://a0.muscache.com/im/pictures/user/0a2a3...</td>\n",
       "      <td>NaN</td>\n",
       "      <td>1.0</td>\n",
       "      <td>2.0</td>\n",
       "      <td>['email', 'phone']</td>\n",
       "      <td>t</td>\n",
       "      <td>t</td>\n",
       "      <td>NaN</td>\n",
       "      <td>De Baarsjes - Oud-West</td>\n",
       "      <td>NaN</td>\n",
       "      <td>52.36786</td>\n",
       "      <td>4.87458</td>\n",
       "      <td>Entire rental unit</td>\n",
       "      <td>Entire home/apt</td>\n",
       "      <td>3</td>\n",
       "      <td>1.5</td>\n",
       "      <td>1.5 baths</td>\n",
       "      <td>2.0</td>\n",
       "      <td>2.0</td>\n",
       "      <td>[\"Shampoo\", \"Paid street parking off premises\"...</td>\n",
       "      <td>$120.00</td>\n",
       "      <td>2</td>\n",
       "      <td>20</td>\n",
       "      <td>2</td>\n",
       "      <td>2</td>\n",
       "      <td>20</td>\n",
       "      <td>20</td>\n",
       "      <td>2.0</td>\n",
       "      <td>20.0</td>\n",
       "      <td>NaN</td>\n",
       "      <td>t</td>\n",
       "      <td>1</td>\n",
       "      <td>1</td>\n",
       "      <td>1</td>\n",
       "      <td>66</td>\n",
       "      <td>2025-06-17</td>\n",
       "      <td>203</td>\n",
       "      <td>5</td>\n",
       "      <td>1</td>\n",
       "      <td>1</td>\n",
       "      <td>6</td>\n",
       "      <td>39</td>\n",
       "      <td>4680.0</td>\n",
       "      <td>2010-09-13</td>\n",
       "      <td>2025-05-29</td>\n",
       "      <td>4.77</td>\n",
       "      <td>4.78</td>\n",
       "      <td>4.61</td>\n",
       "      <td>4.76</td>\n",
       "      <td>4.90</td>\n",
       "      <td>4.85</td>\n",
       "      <td>4.63</td>\n",
       "      <td>0363 1266 8C04 4133 E6AC</td>\n",
       "      <td>f</td>\n",
       "      <td>1</td>\n",
       "      <td>1</td>\n",
       "      <td>0</td>\n",
       "      <td>0</td>\n",
       "      <td>1.13</td>\n",
       "    </tr>\n",
       "  </tbody>\n",
       "</table>\n",
       "</div>"
      ],
      "text/plain": [
       "                              listing_url       scrape_id last_scraped  \\\n",
       "id                                                                       \n",
       "27886  https://www.airbnb.com/rooms/27886  20250609011745   2025-06-17   \n",
       "28871  https://www.airbnb.com/rooms/28871  20250609011745   2025-06-17   \n",
       "29051  https://www.airbnb.com/rooms/29051  20250609011745   2025-06-17   \n",
       "44391  https://www.airbnb.com/rooms/44391  20250609011745   2025-06-17   \n",
       "47061  https://www.airbnb.com/rooms/47061  20250609011745   2025-06-17   \n",
       "\n",
       "                source                                               name  \\\n",
       "id                                                                          \n",
       "27886      city scrape  Romantic, stylish B&B houseboat in canal district   \n",
       "28871      city scrape                            Comfortable double room   \n",
       "29051      city scrape                   Comfortable single / double room   \n",
       "44391  previous scrape    Quiet 2-bedroom Amsterdam city centre apartment   \n",
       "47061      city scrape                   Charming apartment in old centre   \n",
       "\n",
       "                                             description  \\\n",
       "id                                                         \n",
       "27886  Stylish and romantic houseboat on fantastic hi...   \n",
       "28871          Basic bedroom in the center of Amsterdam.   \n",
       "29051  This room can also be rented as a single or a ...   \n",
       "44391  Guests greatly appreciate the unique location ...   \n",
       "47061  A beautiful, quiet apartment in the center of ...   \n",
       "\n",
       "                                   neighborhood_overview  \\\n",
       "id                                                         \n",
       "27886         Central, quiet, safe, clean and beautiful.   \n",
       "28871       Flower market , Leidseplein , Rembrantsplein   \n",
       "29051  the street is quite lively especially on weeke...   \n",
       "44391  The appartment is located in the city centre. ...   \n",
       "47061                                                NaN   \n",
       "\n",
       "                                             picture_url  host_id  \\\n",
       "id                                                                  \n",
       "27886  https://a0.muscache.com/pictures/02c2da9d-660e...    97647   \n",
       "28871  https://a0.muscache.com/pictures/160889/362340...   124245   \n",
       "29051  https://a0.muscache.com/pictures/162009/bd6be2...   124245   \n",
       "44391  https://a0.muscache.com/pictures/97741545/3900...   194779   \n",
       "47061  https://a0.muscache.com/pictures/268343/a08ce2...   211696   \n",
       "\n",
       "                                       host_url host_name  host_since  \\\n",
       "id                                                                      \n",
       "27886   https://www.airbnb.com/users/show/97647      Flip  2010-03-23   \n",
       "28871  https://www.airbnb.com/users/show/124245     Edwin  2010-05-13   \n",
       "29051  https://www.airbnb.com/users/show/124245     Edwin  2010-05-13   \n",
       "44391  https://www.airbnb.com/users/show/194779       Jan  2010-08-08   \n",
       "47061  https://www.airbnb.com/users/show/211696      Ivar  2010-08-24   \n",
       "\n",
       "                host_location  \\\n",
       "id                              \n",
       "27886  Amsterdam, Netherlands   \n",
       "28871  Amsterdam, Netherlands   \n",
       "29051  Amsterdam, Netherlands   \n",
       "44391  Amsterdam, Netherlands   \n",
       "47061             Netherlands   \n",
       "\n",
       "                                              host_about  host_response_time  \\\n",
       "id                                                                             \n",
       "27886  Marjan works in \"eye\" the dutch filmmuseum, an...      within an hour   \n",
       "28871                                                 Hi      within an hour   \n",
       "29051                                                 Hi      within an hour   \n",
       "44391  Love to travel while hosting and to host while...                 NaN   \n",
       "47061  Hi, I am a freelance theatre director and comp...  within a few hours   \n",
       "\n",
       "      host_response_rate host_acceptance_rate host_is_superhost  \\\n",
       "id                                                                \n",
       "27886               100%                  98%                 t   \n",
       "28871               100%                  99%                 t   \n",
       "29051               100%                  99%                 t   \n",
       "44391                NaN                  NaN                 f   \n",
       "47061               100%                  50%                 f   \n",
       "\n",
       "                                      host_thumbnail_url  \\\n",
       "id                                                         \n",
       "27886  https://a0.muscache.com/im/users/97647/profile...   \n",
       "28871  https://a0.muscache.com/im/pictures/user/9986b...   \n",
       "29051  https://a0.muscache.com/im/pictures/user/9986b...   \n",
       "44391  https://a0.muscache.com/im/users/194779/profil...   \n",
       "47061  https://a0.muscache.com/im/pictures/user/0a2a3...   \n",
       "\n",
       "                                        host_picture_url  \\\n",
       "id                                                         \n",
       "27886  https://a0.muscache.com/im/users/97647/profile...   \n",
       "28871  https://a0.muscache.com/im/pictures/user/9986b...   \n",
       "29051  https://a0.muscache.com/im/pictures/user/9986b...   \n",
       "44391  https://a0.muscache.com/im/users/194779/profil...   \n",
       "47061  https://a0.muscache.com/im/pictures/user/0a2a3...   \n",
       "\n",
       "                    host_neighbourhood  host_listings_count  \\\n",
       "id                                                            \n",
       "27886              Westelijke Eilanden                  1.0   \n",
       "28871                Amsterdam Centrum                  2.0   \n",
       "29051                Amsterdam Centrum                  2.0   \n",
       "44391  Oostelijke Eilanden en Kadijken                  1.0   \n",
       "47061                              NaN                  1.0   \n",
       "\n",
       "       host_total_listings_count  host_verifications host_has_profile_pic  \\\n",
       "id                                                                          \n",
       "27886                        1.0  ['email', 'phone']                    t   \n",
       "28871                        2.0  ['email', 'phone']                    t   \n",
       "29051                        2.0  ['email', 'phone']                    t   \n",
       "44391                        1.0  ['email', 'phone']                    t   \n",
       "47061                        2.0  ['email', 'phone']                    t   \n",
       "\n",
       "      host_identity_verified                          neighbourhood  \\\n",
       "id                                                                    \n",
       "27886                      t  Amsterdam, North Holland, Netherlands   \n",
       "28871                      t  Amsterdam, North Holland, Netherlands   \n",
       "29051                      t  Amsterdam, North Holland, Netherlands   \n",
       "44391                      t  Amsterdam, Noord-Holland, Netherlands   \n",
       "47061                      t                                    NaN   \n",
       "\n",
       "       neighbourhood_cleansed  neighbourhood_group_cleansed  latitude  \\\n",
       "id                                                                      \n",
       "27886            Centrum-West                           NaN  52.38761   \n",
       "28871            Centrum-West                           NaN  52.36775   \n",
       "29051            Centrum-Oost                           NaN  52.36584   \n",
       "44391            Centrum-Oost                           NaN  52.37168   \n",
       "47061  De Baarsjes - Oud-West                           NaN  52.36786   \n",
       "\n",
       "       longitude                property_type        room_type  accommodates  \\\n",
       "id                                                                             \n",
       "27886    4.89188    Private room in houseboat     Private room             2   \n",
       "28871    4.89092  Private room in rental unit     Private room             2   \n",
       "29051    4.89111        Private room in condo     Private room             2   \n",
       "44391    4.91471           Entire rental unit  Entire home/apt             4   \n",
       "47061    4.87458           Entire rental unit  Entire home/apt             3   \n",
       "\n",
       "       bathrooms bathrooms_text  bedrooms  beds  \\\n",
       "id                                                \n",
       "27886        1.5      1.5 baths       1.0   1.0   \n",
       "28871        1.0  1 shared bath       1.0   1.0   \n",
       "29051        1.0  1 shared bath       1.0   1.0   \n",
       "44391        NaN      1.5 baths       2.0   NaN   \n",
       "47061        1.5      1.5 baths       2.0   2.0   \n",
       "\n",
       "                                               amenities    price  \\\n",
       "id                                                                  \n",
       "27886  [\"Coffee maker: Nespresso\", \"Shampoo\", \"Paid s...  $132.00   \n",
       "28871  [\"Carbon monoxide alarm\", \"Wifi\", \"Heating\", \"...   $78.00   \n",
       "29051  [\"Carbon monoxide alarm\", \"Wifi\", \"Heating\", \"...   $70.00   \n",
       "44391  [\"Shampoo\", \"Essentials\", \"Dishwasher\", \"Paid ...      NaN   \n",
       "47061  [\"Shampoo\", \"Paid street parking off premises\"...  $120.00   \n",
       "\n",
       "       minimum_nights  maximum_nights  minimum_minimum_nights  \\\n",
       "id                                                              \n",
       "27886               3             356                       3   \n",
       "28871               2             730                       1   \n",
       "29051               2             730                       1   \n",
       "44391               3             730                       3   \n",
       "47061               2              20                       2   \n",
       "\n",
       "       maximum_minimum_nights  minimum_maximum_nights  maximum_maximum_nights  \\\n",
       "id                                                                              \n",
       "27886                       3                      30                      30   \n",
       "28871                       2                     730                     730   \n",
       "29051                       2                     730                     730   \n",
       "44391                       3                     730                     730   \n",
       "47061                       2                      20                      20   \n",
       "\n",
       "       minimum_nights_avg_ntm  maximum_nights_avg_ntm  calendar_updated  \\\n",
       "id                                                                        \n",
       "27886                     3.0                    30.0               NaN   \n",
       "28871                     2.0                   730.0               NaN   \n",
       "29051                     2.0                   730.0               NaN   \n",
       "44391                     3.0                   730.0               NaN   \n",
       "47061                     2.0                    20.0               NaN   \n",
       "\n",
       "      has_availability  availability_30  availability_60  availability_90  \\\n",
       "id                                                                          \n",
       "27886                t                0                0                0   \n",
       "28871                t                1                2                4   \n",
       "29051                t                0                1                3   \n",
       "44391                t                0                0                0   \n",
       "47061                t                1                1                1   \n",
       "\n",
       "       availability_365 calendar_last_scraped  number_of_reviews  \\\n",
       "id                                                                 \n",
       "27886                53            2025-06-17                302   \n",
       "28871               130            2025-06-17                710   \n",
       "29051               121            2025-06-17                822   \n",
       "44391                 0            2025-06-17                 42   \n",
       "47061                66            2025-06-17                203   \n",
       "\n",
       "       number_of_reviews_ltm  number_of_reviews_l30d  availability_eoy  \\\n",
       "id                                                                       \n",
       "27886                     28                       1                53   \n",
       "28871                     93                       9                31   \n",
       "29051                     86                       7                20   \n",
       "44391                      0                       0                 0   \n",
       "47061                      5                       1                 1   \n",
       "\n",
       "       number_of_reviews_ly  estimated_occupancy_l365d  \\\n",
       "id                                                       \n",
       "27886                    26                        218   \n",
       "28871                    96                        255   \n",
       "29051                    88                        255   \n",
       "44391                     0                          0   \n",
       "47061                     6                         39   \n",
       "\n",
       "       estimated_revenue_l365d first_review last_review  review_scores_rating  \\\n",
       "id                                                                              \n",
       "27886                  28776.0   2012-01-09  2025-06-11                  4.92   \n",
       "28871                  19890.0   2010-08-22  2025-06-16                  4.88   \n",
       "29051                  17850.0   2011-03-16  2025-06-14                  4.81   \n",
       "44391                      NaN   2010-09-16  2022-08-20                  4.71   \n",
       "47061                   4680.0   2010-09-13  2025-05-29                  4.77   \n",
       "\n",
       "       review_scores_accuracy  review_scores_cleanliness  \\\n",
       "id                                                         \n",
       "27886                    4.90                       4.94   \n",
       "28871                    4.90                       4.87   \n",
       "29051                    4.88                       4.83   \n",
       "44391                    4.68                       4.49   \n",
       "47061                    4.78                       4.61   \n",
       "\n",
       "       review_scores_checkin  review_scores_communication  \\\n",
       "id                                                          \n",
       "27886                   4.95                         4.92   \n",
       "28871                   4.94                         4.94   \n",
       "29051                   4.93                         4.92   \n",
       "44391                   4.95                         4.90   \n",
       "47061                   4.76                         4.90   \n",
       "\n",
       "       review_scores_location  review_scores_value                   license  \\\n",
       "id                                                                             \n",
       "27886                    4.90                 4.78  0363 974D 4986 7411 88D8   \n",
       "28871                    4.94                 4.84  0363 607B EA74 0BD8 2F6F   \n",
       "29051                    4.87                 4.79  0363 607B EA74 0BD8 2F6F   \n",
       "44391                    4.68                 4.50  0363 E76E F06A C1DD 172C   \n",
       "47061                    4.85                 4.63  0363 1266 8C04 4133 E6AC   \n",
       "\n",
       "      instant_bookable  calculated_host_listings_count  \\\n",
       "id                                                       \n",
       "27886                f                               1   \n",
       "28871                f                               2   \n",
       "29051                f                               2   \n",
       "44391                f                               1   \n",
       "47061                f                               1   \n",
       "\n",
       "       calculated_host_listings_count_entire_homes  \\\n",
       "id                                                   \n",
       "27886                                            0   \n",
       "28871                                            0   \n",
       "29051                                            0   \n",
       "44391                                            1   \n",
       "47061                                            1   \n",
       "\n",
       "       calculated_host_listings_count_private_rooms  \\\n",
       "id                                                    \n",
       "27886                                             1   \n",
       "28871                                             2   \n",
       "29051                                             2   \n",
       "44391                                             0   \n",
       "47061                                             0   \n",
       "\n",
       "       calculated_host_listings_count_shared_rooms  reviews_per_month  \n",
       "id                                                                     \n",
       "27886                                            0               1.85  \n",
       "28871                                            0               3.93  \n",
       "29051                                            0               4.74  \n",
       "44391                                            0               0.23  \n",
       "47061                                            0               1.13  "
      ]
     },
     "execution_count": 45,
     "metadata": {},
     "output_type": "execute_result"
    }
   ],
   "source": [
    "listings = pd.read_csv('/Users/svolkova/Desktop/productAnalytic/projects/amsterdam_airbnb/listings.csv.gz', index_col = 'id')\n",
    "listings.head(5)"
   ]
  },
  {
   "cell_type": "code",
   "execution_count": 46,
   "metadata": {},
   "outputs": [
    {
     "data": {
      "text/plain": [
       "(10168, 78)"
      ]
     },
     "execution_count": 46,
     "metadata": {},
     "output_type": "execute_result"
    }
   ],
   "source": [
    "listings.shape"
   ]
  },
  {
   "cell_type": "code",
   "execution_count": 47,
   "metadata": {},
   "outputs": [
    {
     "name": "stdout",
     "output_type": "stream",
     "text": [
      "['listing_url', 'scrape_id', 'last_scraped', 'source', 'name', 'description', 'neighborhood_overview', 'picture_url', 'host_id', 'host_url', 'host_name', 'host_since', 'host_location', 'host_about', 'host_response_time', 'host_response_rate', 'host_acceptance_rate', 'host_is_superhost', 'host_thumbnail_url', 'host_picture_url', 'host_neighbourhood', 'host_listings_count', 'host_total_listings_count', 'host_verifications', 'host_has_profile_pic', 'host_identity_verified', 'neighbourhood', 'neighbourhood_cleansed', 'neighbourhood_group_cleansed', 'latitude', 'longitude', 'property_type', 'room_type', 'accommodates', 'bathrooms', 'bathrooms_text', 'bedrooms', 'beds', 'amenities', 'price', 'minimum_nights', 'maximum_nights', 'minimum_minimum_nights', 'maximum_minimum_nights', 'minimum_maximum_nights', 'maximum_maximum_nights', 'minimum_nights_avg_ntm', 'maximum_nights_avg_ntm', 'calendar_updated', 'has_availability', 'availability_30', 'availability_60', 'availability_90', 'availability_365', 'calendar_last_scraped', 'number_of_reviews', 'number_of_reviews_ltm', 'number_of_reviews_l30d', 'availability_eoy', 'number_of_reviews_ly', 'estimated_occupancy_l365d', 'estimated_revenue_l365d', 'first_review', 'last_review', 'review_scores_rating', 'review_scores_accuracy', 'review_scores_cleanliness', 'review_scores_checkin', 'review_scores_communication', 'review_scores_location', 'review_scores_value', 'license', 'instant_bookable', 'calculated_host_listings_count', 'calculated_host_listings_count_entire_homes', 'calculated_host_listings_count_private_rooms', 'calculated_host_listings_count_shared_rooms', 'reviews_per_month']\n"
     ]
    }
   ],
   "source": [
    "cols = listings.columns.tolist()\n",
    "print(cols)"
   ]
  },
  {
   "cell_type": "code",
   "execution_count": 48,
   "metadata": {},
   "outputs": [
    {
     "name": "stdout",
     "output_type": "stream",
     "text": [
      "<class 'pandas.core.frame.DataFrame'>\n",
      "Index: 10168 entries, 27886 to 1438602403155395239\n",
      "Data columns (total 78 columns):\n",
      " #   Column                                        Non-Null Count  Dtype  \n",
      "---  ------                                        --------------  -----  \n",
      " 0   listing_url                                   10168 non-null  object \n",
      " 1   scrape_id                                     10168 non-null  int64  \n",
      " 2   last_scraped                                  10168 non-null  object \n",
      " 3   source                                        10168 non-null  object \n",
      " 4   name                                          10168 non-null  object \n",
      " 5   description                                   9859 non-null   object \n",
      " 6   neighborhood_overview                         5258 non-null   object \n",
      " 7   picture_url                                   10168 non-null  object \n",
      " 8   host_id                                       10168 non-null  int64  \n",
      " 9   host_url                                      10168 non-null  object \n",
      " 10  host_name                                     10164 non-null  object \n",
      " 11  host_since                                    10164 non-null  object \n",
      " 12  host_location                                 9024 non-null   object \n",
      " 13  host_about                                    5372 non-null   object \n",
      " 14  host_response_time                            6640 non-null   object \n",
      " 15  host_response_rate                            6640 non-null   object \n",
      " 16  host_acceptance_rate                          7937 non-null   object \n",
      " 17  host_is_superhost                             10069 non-null  object \n",
      " 18  host_thumbnail_url                            10164 non-null  object \n",
      " 19  host_picture_url                              10164 non-null  object \n",
      " 20  host_neighbourhood                            2814 non-null   object \n",
      " 21  host_listings_count                           10164 non-null  float64\n",
      " 22  host_total_listings_count                     10164 non-null  float64\n",
      " 23  host_verifications                            10164 non-null  object \n",
      " 24  host_has_profile_pic                          10164 non-null  object \n",
      " 25  host_identity_verified                        10164 non-null  object \n",
      " 26  neighbourhood                                 5258 non-null   object \n",
      " 27  neighbourhood_cleansed                        10168 non-null  object \n",
      " 28  neighbourhood_group_cleansed                  0 non-null      float64\n",
      " 29  latitude                                      10168 non-null  float64\n",
      " 30  longitude                                     10168 non-null  float64\n",
      " 31  property_type                                 10168 non-null  object \n",
      " 32  room_type                                     10168 non-null  object \n",
      " 33  accommodates                                  10168 non-null  int64  \n",
      " 34  bathrooms                                     6377 non-null   float64\n",
      " 35  bathrooms_text                                10162 non-null  object \n",
      " 36  bedrooms                                      9874 non-null   float64\n",
      " 37  beds                                          6341 non-null   float64\n",
      " 38  amenities                                     10168 non-null  object \n",
      " 39  price                                         6321 non-null   object \n",
      " 40  minimum_nights                                10168 non-null  int64  \n",
      " 41  maximum_nights                                10168 non-null  int64  \n",
      " 42  minimum_minimum_nights                        10168 non-null  int64  \n",
      " 43  maximum_minimum_nights                        10168 non-null  int64  \n",
      " 44  minimum_maximum_nights                        10168 non-null  int64  \n",
      " 45  maximum_maximum_nights                        10168 non-null  int64  \n",
      " 46  minimum_nights_avg_ntm                        10168 non-null  float64\n",
      " 47  maximum_nights_avg_ntm                        10168 non-null  float64\n",
      " 48  calendar_updated                              0 non-null      float64\n",
      " 49  has_availability                              9849 non-null   object \n",
      " 50  availability_30                               10168 non-null  int64  \n",
      " 51  availability_60                               10168 non-null  int64  \n",
      " 52  availability_90                               10168 non-null  int64  \n",
      " 53  availability_365                              10168 non-null  int64  \n",
      " 54  calendar_last_scraped                         10168 non-null  object \n",
      " 55  number_of_reviews                             10168 non-null  int64  \n",
      " 56  number_of_reviews_ltm                         10168 non-null  int64  \n",
      " 57  number_of_reviews_l30d                        10168 non-null  int64  \n",
      " 58  availability_eoy                              10168 non-null  int64  \n",
      " 59  number_of_reviews_ly                          10168 non-null  int64  \n",
      " 60  estimated_occupancy_l365d                     10168 non-null  int64  \n",
      " 61  estimated_revenue_l365d                       6321 non-null   float64\n",
      " 62  first_review                                  9198 non-null   object \n",
      " 63  last_review                                   9198 non-null   object \n",
      " 64  review_scores_rating                          9198 non-null   float64\n",
      " 65  review_scores_accuracy                        9198 non-null   float64\n",
      " 66  review_scores_cleanliness                     9197 non-null   float64\n",
      " 67  review_scores_checkin                         9198 non-null   float64\n",
      " 68  review_scores_communication                   9198 non-null   float64\n",
      " 69  review_scores_location                        9198 non-null   float64\n",
      " 70  review_scores_value                           9198 non-null   float64\n",
      " 71  license                                       10062 non-null  object \n",
      " 72  instant_bookable                              10168 non-null  object \n",
      " 73  calculated_host_listings_count                10168 non-null  int64  \n",
      " 74  calculated_host_listings_count_entire_homes   10168 non-null  int64  \n",
      " 75  calculated_host_listings_count_private_rooms  10168 non-null  int64  \n",
      " 76  calculated_host_listings_count_shared_rooms   10168 non-null  int64  \n",
      " 77  reviews_per_month                             9198 non-null   float64\n",
      "dtypes: float64(20), int64(23), object(35)\n",
      "memory usage: 6.1+ MB\n"
     ]
    }
   ],
   "source": [
    "listings.info()"
   ]
  },
  {
   "cell_type": "code",
   "execution_count": 49,
   "metadata": {},
   "outputs": [],
   "source": [
    "listings = listings.drop(columns=['neighbourhood_group_cleansed'])"
   ]
  },
  {
   "cell_type": "code",
   "execution_count": 50,
   "metadata": {},
   "outputs": [
    {
     "name": "stdout",
     "output_type": "stream",
     "text": [
      "['listing_url', 'scrape_id', 'last_scraped', 'source', 'name', 'description', 'neighborhood_overview', 'picture_url', 'host_id', 'host_url', 'host_name', 'host_since', 'host_location', 'host_about', 'host_response_time', 'host_response_rate', 'host_acceptance_rate', 'host_is_superhost', 'host_thumbnail_url', 'host_picture_url', 'host_neighbourhood', 'host_listings_count', 'host_total_listings_count', 'host_verifications', 'host_has_profile_pic', 'host_identity_verified', 'neighbourhood', 'neighbourhood_cleansed', 'latitude', 'longitude', 'property_type', 'room_type', 'accommodates', 'bathrooms', 'bathrooms_text', 'bedrooms', 'beds', 'amenities', 'price', 'minimum_nights', 'maximum_nights', 'minimum_minimum_nights', 'maximum_minimum_nights', 'minimum_maximum_nights', 'maximum_maximum_nights', 'minimum_nights_avg_ntm', 'maximum_nights_avg_ntm', 'calendar_updated', 'has_availability', 'availability_30', 'availability_60', 'availability_90', 'availability_365', 'calendar_last_scraped', 'number_of_reviews', 'number_of_reviews_ltm', 'number_of_reviews_l30d', 'availability_eoy', 'number_of_reviews_ly', 'estimated_occupancy_l365d', 'estimated_revenue_l365d', 'first_review', 'last_review', 'review_scores_rating', 'review_scores_accuracy', 'review_scores_cleanliness', 'review_scores_checkin', 'review_scores_communication', 'review_scores_location', 'review_scores_value', 'license', 'instant_bookable', 'calculated_host_listings_count', 'calculated_host_listings_count_entire_homes', 'calculated_host_listings_count_private_rooms', 'calculated_host_listings_count_shared_rooms', 'reviews_per_month']\n"
     ]
    }
   ],
   "source": [
    "listings_2 = pd.read_csv('/Users/svolkova/Desktop/productAnalytic/projects/amsterdam_airbnb/listings.csv', index_col = 'id')\n",
    "cols2 = listings.columns.tolist()\n",
    "print(cols2)"
   ]
  },
  {
   "cell_type": "code",
   "execution_count": 51,
   "metadata": {},
   "outputs": [
    {
     "name": "stdout",
     "output_type": "stream",
     "text": [
      "[]\n"
     ]
    }
   ],
   "source": [
    "c = list(set(cols2) - set(cols))\n",
    "print(c)"
   ]
  },
  {
   "cell_type": "code",
   "execution_count": 57,
   "metadata": {},
   "outputs": [
    {
     "data": {
      "text/html": [
       "<div>\n",
       "<style scoped>\n",
       "    .dataframe tbody tr th:only-of-type {\n",
       "        vertical-align: middle;\n",
       "    }\n",
       "\n",
       "    .dataframe tbody tr th {\n",
       "        vertical-align: top;\n",
       "    }\n",
       "\n",
       "    .dataframe thead th {\n",
       "        text-align: right;\n",
       "    }\n",
       "</style>\n",
       "<table border=\"1\" class=\"dataframe\">\n",
       "  <thead>\n",
       "    <tr style=\"text-align: right;\">\n",
       "      <th></th>\n",
       "      <th>neighbourhood_group</th>\n",
       "      <th>neighbourhood</th>\n",
       "    </tr>\n",
       "  </thead>\n",
       "  <tbody>\n",
       "    <tr>\n",
       "      <th>0</th>\n",
       "      <td>NaN</td>\n",
       "      <td>Bijlmer-Centrum</td>\n",
       "    </tr>\n",
       "    <tr>\n",
       "      <th>1</th>\n",
       "      <td>NaN</td>\n",
       "      <td>Bijlmer-Oost</td>\n",
       "    </tr>\n",
       "    <tr>\n",
       "      <th>2</th>\n",
       "      <td>NaN</td>\n",
       "      <td>Bos en Lommer</td>\n",
       "    </tr>\n",
       "    <tr>\n",
       "      <th>3</th>\n",
       "      <td>NaN</td>\n",
       "      <td>Buitenveldert - Zuidas</td>\n",
       "    </tr>\n",
       "    <tr>\n",
       "      <th>4</th>\n",
       "      <td>NaN</td>\n",
       "      <td>Centrum-Oost</td>\n",
       "    </tr>\n",
       "    <tr>\n",
       "      <th>5</th>\n",
       "      <td>NaN</td>\n",
       "      <td>Centrum-West</td>\n",
       "    </tr>\n",
       "    <tr>\n",
       "      <th>6</th>\n",
       "      <td>NaN</td>\n",
       "      <td>De Aker - Nieuw Sloten</td>\n",
       "    </tr>\n",
       "    <tr>\n",
       "      <th>7</th>\n",
       "      <td>NaN</td>\n",
       "      <td>De Baarsjes - Oud-West</td>\n",
       "    </tr>\n",
       "    <tr>\n",
       "      <th>8</th>\n",
       "      <td>NaN</td>\n",
       "      <td>De Pijp - Rivierenbuurt</td>\n",
       "    </tr>\n",
       "    <tr>\n",
       "      <th>9</th>\n",
       "      <td>NaN</td>\n",
       "      <td>Gaasperdam - Driemond</td>\n",
       "    </tr>\n",
       "    <tr>\n",
       "      <th>10</th>\n",
       "      <td>NaN</td>\n",
       "      <td>Geuzenveld - Slotermeer</td>\n",
       "    </tr>\n",
       "    <tr>\n",
       "      <th>11</th>\n",
       "      <td>NaN</td>\n",
       "      <td>IJburg - Zeeburgereiland</td>\n",
       "    </tr>\n",
       "    <tr>\n",
       "      <th>12</th>\n",
       "      <td>NaN</td>\n",
       "      <td>Noord-Oost</td>\n",
       "    </tr>\n",
       "    <tr>\n",
       "      <th>13</th>\n",
       "      <td>NaN</td>\n",
       "      <td>Noord-West</td>\n",
       "    </tr>\n",
       "    <tr>\n",
       "      <th>14</th>\n",
       "      <td>NaN</td>\n",
       "      <td>Oostelijk Havengebied - Indische Buurt</td>\n",
       "    </tr>\n",
       "    <tr>\n",
       "      <th>15</th>\n",
       "      <td>NaN</td>\n",
       "      <td>Osdorp</td>\n",
       "    </tr>\n",
       "    <tr>\n",
       "      <th>16</th>\n",
       "      <td>NaN</td>\n",
       "      <td>Oud-Noord</td>\n",
       "    </tr>\n",
       "    <tr>\n",
       "      <th>17</th>\n",
       "      <td>NaN</td>\n",
       "      <td>Oud-Oost</td>\n",
       "    </tr>\n",
       "    <tr>\n",
       "      <th>18</th>\n",
       "      <td>NaN</td>\n",
       "      <td>Slotervaart</td>\n",
       "    </tr>\n",
       "    <tr>\n",
       "      <th>19</th>\n",
       "      <td>NaN</td>\n",
       "      <td>Watergraafsmeer</td>\n",
       "    </tr>\n",
       "    <tr>\n",
       "      <th>20</th>\n",
       "      <td>NaN</td>\n",
       "      <td>Westerpark</td>\n",
       "    </tr>\n",
       "    <tr>\n",
       "      <th>21</th>\n",
       "      <td>NaN</td>\n",
       "      <td>Zuid</td>\n",
       "    </tr>\n",
       "  </tbody>\n",
       "</table>\n",
       "</div>"
      ],
      "text/plain": [
       "    neighbourhood_group                           neighbourhood\n",
       "0                   NaN                         Bijlmer-Centrum\n",
       "1                   NaN                            Bijlmer-Oost\n",
       "2                   NaN                           Bos en Lommer\n",
       "3                   NaN                  Buitenveldert - Zuidas\n",
       "4                   NaN                            Centrum-Oost\n",
       "5                   NaN                            Centrum-West\n",
       "6                   NaN                  De Aker - Nieuw Sloten\n",
       "7                   NaN                  De Baarsjes - Oud-West\n",
       "8                   NaN                 De Pijp - Rivierenbuurt\n",
       "9                   NaN                   Gaasperdam - Driemond\n",
       "10                  NaN                 Geuzenveld - Slotermeer\n",
       "11                  NaN                IJburg - Zeeburgereiland\n",
       "12                  NaN                              Noord-Oost\n",
       "13                  NaN                              Noord-West\n",
       "14                  NaN  Oostelijk Havengebied - Indische Buurt\n",
       "15                  NaN                                  Osdorp\n",
       "16                  NaN                               Oud-Noord\n",
       "17                  NaN                                Oud-Oost\n",
       "18                  NaN                             Slotervaart\n",
       "19                  NaN                         Watergraafsmeer\n",
       "20                  NaN                              Westerpark\n",
       "21                  NaN                                    Zuid"
      ]
     },
     "execution_count": 57,
     "metadata": {},
     "output_type": "execute_result"
    }
   ],
   "source": [
    "neighbour = pd.read_csv('/Users/svolkova/Desktop/productAnalytic/projects/amsterdam_airbnb/neighbourhoods.csv')\n",
    "neighbour\n"
   ]
  },
  {
   "cell_type": "code",
   "execution_count": 53,
   "metadata": {},
   "outputs": [
    {
     "data": {
      "text/html": [
       "<div>\n",
       "<style scoped>\n",
       "    .dataframe tbody tr th:only-of-type {\n",
       "        vertical-align: middle;\n",
       "    }\n",
       "\n",
       "    .dataframe tbody tr th {\n",
       "        vertical-align: top;\n",
       "    }\n",
       "\n",
       "    .dataframe thead th {\n",
       "        text-align: right;\n",
       "    }\n",
       "</style>\n",
       "<table border=\"1\" class=\"dataframe\">\n",
       "  <thead>\n",
       "    <tr style=\"text-align: right;\">\n",
       "      <th></th>\n",
       "      <th>listing_id</th>\n",
       "      <th>date</th>\n",
       "      <th>reviewer_id</th>\n",
       "      <th>reviewer_name</th>\n",
       "      <th>comments</th>\n",
       "    </tr>\n",
       "    <tr>\n",
       "      <th>id</th>\n",
       "      <th></th>\n",
       "      <th></th>\n",
       "      <th></th>\n",
       "      <th></th>\n",
       "      <th></th>\n",
       "    </tr>\n",
       "  </thead>\n",
       "  <tbody>\n",
       "    <tr>\n",
       "      <th>4796982</th>\n",
       "      <td>1182656</td>\n",
       "      <td>2013-05-26</td>\n",
       "      <td>6511386</td>\n",
       "      <td>Karim</td>\n",
       "      <td>Marc was a very friendly guy. When we got to h...</td>\n",
       "    </tr>\n",
       "    <tr>\n",
       "      <th>4952124</th>\n",
       "      <td>1182656</td>\n",
       "      <td>2013-06-03</td>\n",
       "      <td>1409171</td>\n",
       "      <td>Tomas</td>\n",
       "      <td>Great. Very good location. Friendly host. Accu...</td>\n",
       "    </tr>\n",
       "    <tr>\n",
       "      <th>5014762</th>\n",
       "      <td>1182656</td>\n",
       "      <td>2013-06-07</td>\n",
       "      <td>6444385</td>\n",
       "      <td>Charles</td>\n",
       "      <td>Marc is an incredibly nice person and a gracio...</td>\n",
       "    </tr>\n",
       "    <tr>\n",
       "      <th>5073754</th>\n",
       "      <td>1182656</td>\n",
       "      <td>2013-06-10</td>\n",
       "      <td>3333785</td>\n",
       "      <td>Laura</td>\n",
       "      <td>Marc's apartment is a beautiful place located ...</td>\n",
       "    </tr>\n",
       "    <tr>\n",
       "      <th>5091378</th>\n",
       "      <td>1182656</td>\n",
       "      <td>2013-06-11</td>\n",
       "      <td>6608456</td>\n",
       "      <td>Sally</td>\n",
       "      <td>This was our first time using Airbnb and were ...</td>\n",
       "    </tr>\n",
       "  </tbody>\n",
       "</table>\n",
       "</div>"
      ],
      "text/plain": [
       "         listing_id        date  reviewer_id reviewer_name  \\\n",
       "id                                                           \n",
       "4796982     1182656  2013-05-26      6511386         Karim   \n",
       "4952124     1182656  2013-06-03      1409171         Tomas   \n",
       "5014762     1182656  2013-06-07      6444385       Charles   \n",
       "5073754     1182656  2013-06-10      3333785         Laura   \n",
       "5091378     1182656  2013-06-11      6608456         Sally   \n",
       "\n",
       "                                                  comments  \n",
       "id                                                          \n",
       "4796982  Marc was a very friendly guy. When we got to h...  \n",
       "4952124  Great. Very good location. Friendly host. Accu...  \n",
       "5014762  Marc is an incredibly nice person and a gracio...  \n",
       "5073754  Marc's apartment is a beautiful place located ...  \n",
       "5091378  This was our first time using Airbnb and were ...  "
      ]
     },
     "execution_count": 53,
     "metadata": {},
     "output_type": "execute_result"
    }
   ],
   "source": [
    "reviews = pd.read_csv('/Users/svolkova/Desktop/productAnalytic/projects/amsterdam_airbnb/reviews.csv.gz', index_col='id')\n",
    "reviews.head(5)"
   ]
  },
  {
   "cell_type": "code",
   "execution_count": 54,
   "metadata": {},
   "outputs": [
    {
     "data": {
      "text/plain": [
       "(483680, 5)"
      ]
     },
     "execution_count": 54,
     "metadata": {},
     "output_type": "execute_result"
    }
   ],
   "source": [
    "reviews.shape"
   ]
  },
  {
   "cell_type": "code",
   "execution_count": 55,
   "metadata": {},
   "outputs": [
    {
     "name": "stdout",
     "output_type": "stream",
     "text": [
      "<class 'pandas.core.frame.DataFrame'>\n",
      "Index: 483680 entries, 4796982 to 1433979383777632974\n",
      "Data columns (total 5 columns):\n",
      " #   Column         Non-Null Count   Dtype \n",
      "---  ------         --------------   ----- \n",
      " 0   listing_id     483680 non-null  int64 \n",
      " 1   date           483680 non-null  object\n",
      " 2   reviewer_id    483680 non-null  int64 \n",
      " 3   reviewer_name  483679 non-null  object\n",
      " 4   comments       483650 non-null  object\n",
      "dtypes: int64(2), object(3)\n",
      "memory usage: 22.1+ MB\n"
     ]
    }
   ],
   "source": [
    "reviews.info()"
   ]
  },
  {
   "cell_type": "code",
   "execution_count": 56,
   "metadata": {},
   "outputs": [
    {
     "data": {
      "text/html": [
       "<div>\n",
       "<style scoped>\n",
       "    .dataframe tbody tr th:only-of-type {\n",
       "        vertical-align: middle;\n",
       "    }\n",
       "\n",
       "    .dataframe tbody tr th {\n",
       "        vertical-align: top;\n",
       "    }\n",
       "\n",
       "    .dataframe thead th {\n",
       "        text-align: right;\n",
       "    }\n",
       "</style>\n",
       "<table border=\"1\" class=\"dataframe\">\n",
       "  <thead>\n",
       "    <tr style=\"text-align: right;\">\n",
       "      <th></th>\n",
       "      <th>listing_id</th>\n",
       "      <th>date</th>\n",
       "      <th>available</th>\n",
       "      <th>price</th>\n",
       "      <th>adjusted_price</th>\n",
       "      <th>minimum_nights</th>\n",
       "      <th>maximum_nights</th>\n",
       "    </tr>\n",
       "  </thead>\n",
       "  <tbody>\n",
       "  </tbody>\n",
       "</table>\n",
       "</div>"
      ],
      "text/plain": [
       "Empty DataFrame\n",
       "Columns: [listing_id, date, available, price, adjusted_price, minimum_nights, maximum_nights]\n",
       "Index: []"
      ]
     },
     "execution_count": 56,
     "metadata": {},
     "output_type": "execute_result"
    }
   ],
   "source": [
    "calendar = pd.read_csv('/Users/svolkova/Desktop/productAnalytic/projects/amsterdam_airbnb/calendar.csv.gz', parse_dates=['date'])\n",
    "calendar.head(5)"
   ]
  },
  {
   "cell_type": "code",
   "execution_count": null,
   "metadata": {},
   "outputs": [],
   "source": []
  },
  {
   "cell_type": "code",
   "execution_count": null,
   "metadata": {},
   "outputs": [],
   "source": [
    "# numbers of accommodation by neighbourhood    "
   ]
  },
  {
   "cell_type": "code",
   "execution_count": 104,
   "metadata": {},
   "outputs": [
    {
     "data": {
      "image/png": "[encoded data removed]",
      "text/plain": [
       "<Figure size 640x480 with 1 Axes>"
      ]
     },
     "metadata": {},
     "output_type": "display_data"
    }
   ],
   "source": [
    "num_nei = listings['neighbourhood_cleansed'].value_counts().sort_values(ascending=False)\n",
    "nei_df = num_nei.reset_index()\n",
    "nei_df.columns = ['neighborhood', 'listings']\n",
    "ax = sns.barplot(nei_df, y='neighborhood', x='listings', hue='neighborhood', palette='vlag', legend=False)\n"
   ]
  },
  {
   "cell_type": "code",
   "execution_count": null,
   "metadata": {},
   "outputs": [
    {
     "data": {
      "application/vnd.plotly.v1+json": {
       "config": {
        "plotlyServerURL": "https://plot.ly"
       },
       "data": [
        {
         "customdata": [
          [
           59,
           52.31819307733939,
           4.949001420104325
          ],
          [
           38,
           52.32107248981744,
           4.978686143600003
          ],
          [
           528,
           52.37838306015121,
           4.851338011828931
          ],
          [
           124,
           52.33110846700111,
           4.869094806293956
          ],
          [
           875,
           52.36611511333254,
           4.903828971989039
          ],
          [
           1162,
           52.37544009114581,
           4.8872658060531355
          ],
          [
           64,
           52.34483762133912,
           4.800538719294779
          ],
          [
           1763,
           52.36625042889012,
           4.862785691541877
          ],
          [
           1156,
           52.35094554475069,
           4.89739779877326
          ],
          [
           52,
           52.29940994087049,
           4.9843413428329155
          ],
          [
           137,
           52.37917922340114,
           4.818479058590898
          ],
          [
           197,
           52.357358810733416,
           4.993318827764066
          ],
          [
           198,
           52.39515532429674,
           4.953939976519506
          ],
          [
           286,
           52.41232129744103,
           4.900138113682592
          ],
          [
           423,
           52.36609789499189,
           4.939767437355596
          ],
          [
           55,
           52.357106235945146,
           4.79887243651777
          ],
          [
           461,
           52.39224025387576,
           4.915547653089226
          ],
          [
           622,
           52.35721713931848,
           4.919006634664378
          ],
          [
           202,
           52.35842552495925,
           4.835190403207114
          ],
          [
           325,
           52.34847234175885,
           4.930250093955085
          ],
          [
           711,
           52.38298625970841,
           4.875372470116941
          ],
          [
           730,
           52.351677369515,
           4.861558342157774
          ]
         ],
         "hovertemplate": "<b>%{hovertext}</b><br><br>count=%{customdata[0]}<extra></extra>",
         "hovertext": [
          "Bijlmer-Centrum",
          "Bijlmer-Oost",
          "Bos en Lommer",
          "Buitenveldert - Zuidas",
          "Centrum-Oost",
          "Centrum-West",
          "De Aker - Nieuw Sloten",
          "De Baarsjes - Oud-West",
          "De Pijp - Rivierenbuurt",
          "Gaasperdam - Driemond",
          "Geuzenveld - Slotermeer",
          "IJburg - Zeeburgereiland",
          "Noord-Oost",
          "Noord-West",
          "Oostelijk Havengebied - Indische Buurt",
          "Osdorp",
          "Oud-Noord",
          "Oud-Oost",
          "Slotervaart",
          "Watergraafsmeer",
          "Westerpark",
          "Zuid"
         ],
         "lat": [
          52.31819307733939,
          52.32107248981744,
          52.37838306015121,
          52.33110846700111,
          52.36611511333254,
          52.37544009114581,
          52.34483762133912,
          52.36625042889012,
          52.35094554475069,
          52.29940994087049,
          52.37917922340114,
          52.357358810733416,
          52.39515532429674,
          52.41232129744103,
          52.36609789499189,
          52.357106235945146,
          52.39224025387576,
          52.35721713931848,
          52.35842552495925,
          52.34847234175885,
          52.38298625970841,
          52.351677369515
         ],
         "legendgroup": "",
         "lon": [
          4.949001420104325,
          4.978686143600003,
          4.851338011828931,
          4.869094806293956,
          4.903828971989039,
          4.8872658060531355,
          4.800538719294779,
          4.862785691541877,
          4.89739779877326,
          4.9843413428329155,
          4.818479058590898,
          4.993318827764066,
          4.953939976519506,
          4.900138113682592,
          4.939767437355596,
          4.79887243651777,
          4.915547653089226,
          4.919006634664378,
          4.835190403207114,
          4.930250093955085,
          4.875372470116941,
          4.861558342157774
         ],
         "marker": {
          "color": "#636efa",
          "size": [
           59,
           38,
           528,
           124,
           875,
           1162,
           64,
           1763,
           1156,
           52,
           137,
           197,
           198,
           286,
           423,
           55,
           461,
           622,
           202,
           325,
           711,
           730
          ],
          "sizemode": "area",
          "sizeref": 1.958888888888889
         },
         "mode": "markers",
         "name": "",
         "showlegend": false,
         "subplot": "mapbox",
         "type": "scattermapbox"
        }
       ],
       "layout": {
        "height": 600,
        "legend": {
         "itemsizing": "constant",
         "tracegroupgap": 0
        },
        "mapbox": {
         "center": {
          "lat": 52.35954515957196,
          "lon": 4.896623643633325
         },
         "domain": {
          "x": [
           0,
           1
          ],
          "y": [
           0,
           1
          ]
         },
         "style": "carto-positron",
         "zoom": 11
        },
        "margin": {
         "b": 0,
         "l": 0,
         "r": 0,
         "t": 0
        },
        "template": {
         "data": {
          "bar": [
           {
            "error_x": {
             "color": "#2a3f5f"
            },
            "error_y": {
             "color": "#2a3f5f"
            },
            "marker": {
             "line": {
              "color": "#E5ECF6",
              "width": 0.5
             },
             "pattern": {
              "fillmode": "overlay",
              "size": 10,
              "solidity": 0.2
             }
            },
            "type": "bar"
           }
          ],
          "barpolar": [
           {
            "marker": {
             "line": {
              "color": "#E5ECF6",
              "width": 0.5
             },
             "pattern": {
              "fillmode": "overlay",
              "size": 10,
              "solidity": 0.2
             }
            },
            "type": "barpolar"
           }
          ],
          "carpet": [
           {
            "aaxis": {
             "endlinecolor": "#2a3f5f",
             "gridcolor": "white",
             "linecolor": "white",
             "minorgridcolor": "white",
             "startlinecolor": "#2a3f5f"
            },
            "baxis": {
             "endlinecolor": "#2a3f5f",
             "gridcolor": "white",
             "linecolor": "white",
             "minorgridcolor": "white",
             "startlinecolor": "#2a3f5f"
            },
            "type": "carpet"
           }
          ],
          "choropleth": [
           {
            "colorbar": {
             "outlinewidth": 0,
             "ticks": ""
            },
            "type": "choropleth"
           }
          ],
          "contour": [
           {
            "colorbar": {
             "outlinewidth": 0,
             "ticks": ""
            },
            "colorscale": [
             [
              0,
              "#0d0887"
             ],
             [
              0.1111111111111111,
              "#46039f"
             ],
             [
              0.2222222222222222,
              "#7201a8"
             ],
             [
              0.3333333333333333,
              "#9c179e"
             ],
             [
              0.4444444444444444,
              "#bd3786"
             ],
             [
              0.5555555555555556,
              "#d8576b"
             ],
             [
              0.6666666666666666,
              "#ed7953"
             ],
             [
              0.7777777777777778,
              "#fb9f3a"
             ],
             [
              0.8888888888888888,
              "#fdca26"
             ],
             [
              1,
              "#f0f921"
             ]
            ],
            "type": "contour"
           }
          ],
          "contourcarpet": [
           {
            "colorbar": {
             "outlinewidth": 0,
             "ticks": ""
            },
            "type": "contourcarpet"
           }
          ],
          "heatmap": [
           {
            "colorbar": {
             "outlinewidth": 0,
             "ticks": ""
            },
            "colorscale": [
             [
              0,
              "#0d0887"
             ],
             [
              0.1111111111111111,
              "#46039f"
             ],
             [
              0.2222222222222222,
              "#7201a8"
             ],
             [
              0.3333333333333333,
              "#9c179e"
             ],
             [
              0.4444444444444444,
              "#bd3786"
             ],
             [
              0.5555555555555556,
              "#d8576b"
             ],
             [
              0.6666666666666666,
              "#ed7953"
             ],
             [
              0.7777777777777778,
              "#fb9f3a"
             ],
             [
              0.8888888888888888,
              "#fdca26"
             ],
             [
              1,
              "#f0f921"
             ]
            ],
            "type": "heatmap"
           }
          ],
          "heatmapgl": [
           {
            "colorbar": {
             "outlinewidth": 0,
             "ticks": ""
            },
            "colorscale": [
             [
              0,
              "#0d0887"
             ],
             [
              0.1111111111111111,
              "#46039f"
             ],
             [
              0.2222222222222222,
              "#7201a8"
             ],
             [
              0.3333333333333333,
              "#9c179e"
             ],
             [
              0.4444444444444444,
              "#bd3786"
             ],
             [
              0.5555555555555556,
              "#d8576b"
             ],
             [
              0.6666666666666666,
              "#ed7953"
             ],
             [
              0.7777777777777778,
              "#fb9f3a"
             ],
             [
              0.8888888888888888,
              "#fdca26"
             ],
             [
              1,
              "#f0f921"
             ]
            ],
            "type": "heatmapgl"
           }
          ],
          "histogram": [
           {
            "marker": {
             "pattern": {
              "fillmode": "overlay",
              "size": 10,
              "solidity": 0.2
             }
            },
            "type": "histogram"
           }
          ],
          "histogram2d": [
           {
            "colorbar": {
             "outlinewidth": 0,
             "ticks": ""
            },
            "colorscale": [
             [
              0,
              "#0d0887"
             ],
             [
              0.1111111111111111,
              "#46039f"
             ],
             [
              0.2222222222222222,
              "#7201a8"
             ],
             [
              0.3333333333333333,
              "#9c179e"
             ],
             [
              0.4444444444444444,
              "#bd3786"
             ],
             [
              0.5555555555555556,
              "#d8576b"
             ],
             [
              0.6666666666666666,
              "#ed7953"
             ],
             [
              0.7777777777777778,
              "#fb9f3a"
             ],
             [
              0.8888888888888888,
              "#fdca26"
             ],
             [
              1,
              "#f0f921"
             ]
            ],
            "type": "histogram2d"
           }
          ],
          "histogram2dcontour": [
           {
            "colorbar": {
             "outlinewidth": 0,
             "ticks": ""
            },
            "colorscale": [
             [
              0,
              "#0d0887"
             ],
             [
              0.1111111111111111,
              "#46039f"
             ],
             [
              0.2222222222222222,
              "#7201a8"
             ],
             [
              0.3333333333333333,
              "#9c179e"
             ],
             [
              0.4444444444444444,
              "#bd3786"
             ],
             [
              0.5555555555555556,
              "#d8576b"
             ],
             [
              0.6666666666666666,
              "#ed7953"
             ],
             [
              0.7777777777777778,
              "#fb9f3a"
             ],
             [
              0.8888888888888888,
              "#fdca26"
             ],
             [
              1,
              "#f0f921"
             ]
            ],
            "type": "histogram2dcontour"
           }
          ],
          "mesh3d": [
           {
            "colorbar": {
             "outlinewidth": 0,
             "ticks": ""
            },
            "type": "mesh3d"
           }
          ],
          "parcoords": [
           {
            "line": {
             "colorbar": {
              "outlinewidth": 0,
              "ticks": ""
             }
            },
            "type": "parcoords"
           }
          ],
          "pie": [
           {
            "automargin": true,
            "type": "pie"
           }
          ],
          "scatter": [
           {
            "fillpattern": {
             "fillmode": "overlay",
             "size": 10,
             "solidity": 0.2
            },
            "type": "scatter"
           }
          ],
          "scatter3d": [
           {
            "line": {
             "colorbar": {
              "outlinewidth": 0,
              "ticks": ""
             }
            },
            "marker": {
             "colorbar": {
              "outlinewidth": 0,
              "ticks": ""
             }
            },
            "type": "scatter3d"
           }
          ],
          "scattercarpet": [
           {
            "marker": {
             "colorbar": {
              "outlinewidth": 0,
              "ticks": ""
             }
            },
            "type": "scattercarpet"
           }
          ],
          "scattergeo": [
           {
            "marker": {
             "colorbar": {
              "outlinewidth": 0,
              "ticks": ""
             }
            },
            "type": "scattergeo"
           }
          ],
          "scattergl": [
           {
            "marker": {
             "colorbar": {
              "outlinewidth": 0,
              "ticks": ""
             }
            },
            "type": "scattergl"
           }
          ],
          "scattermapbox": [
           {
            "marker": {
             "colorbar": {
              "outlinewidth": 0,
              "ticks": ""
             }
            },
            "type": "scattermapbox"
           }
          ],
          "scatterpolar": [
           {
            "marker": {
             "colorbar": {
              "outlinewidth": 0,
              "ticks": ""
             }
            },
            "type": "scatterpolar"
           }
          ],
          "scatterpolargl": [
           {
            "marker": {
             "colorbar": {
              "outlinewidth": 0,
              "ticks": ""
             }
            },
            "type": "scatterpolargl"
           }
          ],
          "scatterternary": [
           {
            "marker": {
             "colorbar": {
              "outlinewidth": 0,
              "ticks": ""
             }
            },
            "type": "scatterternary"
           }
          ],
          "surface": [
           {
            "colorbar": {
             "outlinewidth": 0,
             "ticks": ""
            },
            "colorscale": [
             [
              0,
              "#0d0887"
             ],
             [
              0.1111111111111111,
              "#46039f"
             ],
             [
              0.2222222222222222,
              "#7201a8"
             ],
             [
              0.3333333333333333,
              "#9c179e"
             ],
             [
              0.4444444444444444,
              "#bd3786"
             ],
             [
              0.5555555555555556,
              "#d8576b"
             ],
             [
              0.6666666666666666,
              "#ed7953"
             ],
             [
              0.7777777777777778,
              "#fb9f3a"
             ],
             [
              0.8888888888888888,
              "#fdca26"
             ],
             [
              1,
              "#f0f921"
             ]
            ],
            "type": "surface"
           }
          ],
          "table": [
           {
            "cells": {
             "fill": {
              "color": "#EBF0F8"
             },
             "line": {
              "color": "white"
             }
            },
            "header": {
             "fill": {
              "color": "#C8D4E3"
             },
             "line": {
              "color": "white"
             }
            },
            "type": "table"
           }
          ]
         },
         "layout": {
          "annotationdefaults": {
           "arrowcolor": "#2a3f5f",
           "arrowhead": 0,
           "arrowwidth": 1
          },
          "autotypenumbers": "strict",
          "coloraxis": {
           "colorbar": {
            "outlinewidth": 0,
            "ticks": ""
           }
          },
          "colorscale": {
           "diverging": [
            [
             0,
             "#8e0152"
            ],
            [
             0.1,
             "#c51b7d"
            ],
            [
             0.2,
             "#de77ae"
            ],
            [
             0.3,
             "#f1b6da"
            ],
            [
             0.4,
             "#fde0ef"
            ],
            [
             0.5,
             "#f7f7f7"
            ],
            [
             0.6,
             "#e6f5d0"
            ],
            [
             0.7,
             "#b8e186"
            ],
            [
             0.8,
             "#7fbc41"
            ],
            [
             0.9,
             "#4d9221"
            ],
            [
             1,
             "#276419"
            ]
           ],
           "sequential": [
            [
             0,
             "#0d0887"
            ],
            [
             0.1111111111111111,
             "#46039f"
            ],
            [
             0.2222222222222222,
             "#7201a8"
            ],
            [
             0.3333333333333333,
             "#9c179e"
            ],
            [
             0.4444444444444444,
             "#bd3786"
            ],
            [
             0.5555555555555556,
             "#d8576b"
            ],
            [
             0.6666666666666666,
             "#ed7953"
            ],
            [
             0.7777777777777778,
             "#fb9f3a"
            ],
            [
             0.8888888888888888,
             "#fdca26"
            ],
            [
             1,
             "#f0f921"
            ]
           ],
           "sequentialminus": [
            [
             0,
             "#0d0887"
            ],
            [
             0.1111111111111111,
             "#46039f"
            ],
            [
             0.2222222222222222,
             "#7201a8"
            ],
            [
             0.3333333333333333,
             "#9c179e"
            ],
            [
             0.4444444444444444,
             "#bd3786"
            ],
            [
             0.5555555555555556,
             "#d8576b"
            ],
            [
             0.6666666666666666,
             "#ed7953"
            ],
            [
             0.7777777777777778,
             "#fb9f3a"
            ],
            [
             0.8888888888888888,
             "#fdca26"
            ],
            [
             1,
             "#f0f921"
            ]
           ]
          },
          "colorway": [
           "#636efa",
           "#EF553B",
           "#00cc96",
           "#ab63fa",
           "#FFA15A",
           "#19d3f3",
           "#FF6692",
           "#B6E880",
           "#FF97FF",
           "#FECB52"
          ],
          "font": {
           "color": "#2a3f5f"
          },
          "geo": {
           "bgcolor": "white",
           "lakecolor": "white",
           "landcolor": "#E5ECF6",
           "showlakes": true,
           "showland": true,
           "subunitcolor": "white"
          },
          "hoverlabel": {
           "align": "left"
          },
          "hovermode": "closest",
          "mapbox": {
           "style": "light"
          },
          "paper_bgcolor": "white",
          "plot_bgcolor": "#E5ECF6",
          "polar": {
           "angularaxis": {
            "gridcolor": "white",
            "linecolor": "white",
            "ticks": ""
           },
           "bgcolor": "#E5ECF6",
           "radialaxis": {
            "gridcolor": "white",
            "linecolor": "white",
            "ticks": ""
           }
          },
          "scene": {
           "xaxis": {
            "backgroundcolor": "#E5ECF6",
            "gridcolor": "white",
            "gridwidth": 2,
            "linecolor": "white",
            "showbackground": true,
            "ticks": "",
            "zerolinecolor": "white"
           },
           "yaxis": {
            "backgroundcolor": "#E5ECF6",
            "gridcolor": "white",
            "gridwidth": 2,
            "linecolor": "white",
            "showbackground": true,
            "ticks": "",
            "zerolinecolor": "white"
           },
           "zaxis": {
            "backgroundcolor": "#E5ECF6",
            "gridcolor": "white",
            "gridwidth": 2,
            "linecolor": "white",
            "showbackground": true,
            "ticks": "",
            "zerolinecolor": "white"
           }
          },
          "shapedefaults": {
           "line": {
            "color": "#2a3f5f"
           }
          },
          "ternary": {
           "aaxis": {
            "gridcolor": "white",
            "linecolor": "white",
            "ticks": ""
           },
           "baxis": {
            "gridcolor": "white",
            "linecolor": "white",
            "ticks": ""
           },
           "bgcolor": "#E5ECF6",
           "caxis": {
            "gridcolor": "white",
            "linecolor": "white",
            "ticks": ""
           }
          },
          "title": {
           "x": 0.05
          },
          "xaxis": {
           "automargin": true,
           "gridcolor": "white",
           "linecolor": "white",
           "ticks": "",
           "title": {
            "standoff": 15
           },
           "zerolinecolor": "white",
           "zerolinewidth": 2
          },
          "yaxis": {
           "automargin": true,
           "gridcolor": "white",
           "linecolor": "white",
           "ticks": "",
           "title": {
            "standoff": 15
           },
           "zerolinecolor": "white",
           "zerolinewidth": 2
          }
         }
        }
       }
      }
     },
     "metadata": {},
     "output_type": "display_data"
    }
   ],
   "source": [
    "nei_counts = listings.groupby('neighbourhood_cleansed')[['latitude', 'longitude']].mean()\n",
    "nei_counts['count'] = listings.groupby('neighbourhood_cleansed').size()\n",
    "nei_counts = nei_counts.reset_index()\n",
    "# nei_counts\n",
    "\n",
    "fig = px.scatter_mapbox(\n",
    "    nei_counts,\n",
    "    lat=\"latitude\",\n",
    "    lon=\"longitude\",\n",
    "    size='count', \n",
    "    size_max=30,\n",
    "    hover_name=\"neighbourhood_cleansed\",\n",
    "    hover_data={'count' : True, 'latitude' : False, 'longitude' : False},\n",
    "    zoom=11,\n",
    "    height=600\n",
    ")\n",
    "\n",
    "fig.update_layout(mapbox_style=\"carto-positron\")\n",
    "fig.update_layout(margin={\"r\":0,\"t\":0,\"l\":0,\"b\":0})\n",
    "\n",
    "fig.show()"
   ]
  },
  {
   "cell_type": "code",
   "execution_count": 166,
   "metadata": {},
   "outputs": [],
   "source": [
    "listings['price'] = listings['price'].replace('[$,€]', '', regex=True).astype(float)"
   ]
  },
  {
   "cell_type": "code",
   "execution_count": 186,
   "metadata": {},
   "outputs": [
    {
     "data": {
      "image/png": "[encoded data removed]",
      "text/plain": [
       "<Figure size 640x480 with 1 Axes>"
      ]
     },
     "metadata": {},
     "output_type": "display_data"
    }
   ],
   "source": [
    "nei_counts['price'] = listings.groupby('neighbourhood_cleansed')['price'].mean().reset_index()['price'].round(2)\n",
    "nei_counts = nei_counts.sort_values(by='price', ascending=False)\n",
    "\n",
    "ax = sns.barplot(nei_counts, y='neighbourhood_cleansed', x='price', hue='neighbourhood_cleansed', palette='vlag', legend=False)"
   ]
  },
  {
   "cell_type": "code",
   "execution_count": null,
   "metadata": {},
   "outputs": [],
   "source": [
    "# большой выброс на зауде и в айбурге, разобраться почему"
   ]
  },
  {
   "cell_type": "code",
   "execution_count": 196,
   "metadata": {},
   "outputs": [
    {
     "data": {
      "application/vnd.plotly.v1+json": {
       "config": {
        "plotlyServerURL": "https://plot.ly"
       },
       "data": [
        {
         "customdata": [
          [
           5029.9,
           52.33110846700111,
           4.869094806293956
          ],
          [
           1495.8,
           52.357358810733416,
           4.993318827764066
          ],
          [
           315.55,
           52.36611511333254,
           4.903828971989039
          ],
          [
           314.91,
           52.351677369515,
           4.861558342157774
          ],
          [
           312.39,
           52.37544009114581,
           4.8872658060531355
          ],
          [
           294.35,
           52.38298625970841,
           4.875372470116941
          ],
          [
           288.64,
           52.35094554475069,
           4.89739779877326
          ],
          [
           274.35,
           52.36625042889012,
           4.862785691541877
          ],
          [
           272.02,
           52.39224025387576,
           4.915547653089226
          ],
          [
           255.68,
           52.34847234175885,
           4.930250093955085
          ],
          [
           245.56,
           52.35721713931848,
           4.919006634664378
          ],
          [
           234.27,
           52.37838306015121,
           4.851338011828931
          ],
          [
           220.89,
           52.36609789499189,
           4.939767437355596
          ],
          [
           204.39,
           52.41232129744103,
           4.900138113682592
          ],
          [
           198.38,
           52.39515532429674,
           4.953939976519506
          ],
          [
           189.23,
           52.35842552495925,
           4.835190403207114
          ],
          [
           188.05,
           52.37917922340114,
           4.818479058590898
          ],
          [
           182.93,
           52.34483762133912,
           4.800538719294779
          ],
          [
           174.06,
           52.29940994087049,
           4.9843413428329155
          ],
          [
           162.64,
           52.357106235945146,
           4.79887243651777
          ],
          [
           156.62,
           52.32107248981744,
           4.978686143600003
          ],
          [
           147.42,
           52.31819307733939,
           4.949001420104325
          ]
         ],
         "hovertemplate": "<b>%{hovertext}</b><br><br>price=%{customdata[0]}<extra></extra>",
         "hovertext": [
          "Buitenveldert - Zuidas",
          "IJburg - Zeeburgereiland",
          "Centrum-Oost",
          "Zuid",
          "Centrum-West",
          "Westerpark",
          "De Pijp - Rivierenbuurt",
          "De Baarsjes - Oud-West",
          "Oud-Noord",
          "Watergraafsmeer",
          "Oud-Oost",
          "Bos en Lommer",
          "Oostelijk Havengebied - Indische Buurt",
          "Noord-West",
          "Noord-Oost",
          "Slotervaart",
          "Geuzenveld - Slotermeer",
          "De Aker - Nieuw Sloten",
          "Gaasperdam - Driemond",
          "Osdorp",
          "Bijlmer-Oost",
          "Bijlmer-Centrum"
         ],
         "lat": [
          52.33110846700111,
          52.357358810733416,
          52.36611511333254,
          52.351677369515,
          52.37544009114581,
          52.38298625970841,
          52.35094554475069,
          52.36625042889012,
          52.39224025387576,
          52.34847234175885,
          52.35721713931848,
          52.37838306015121,
          52.36609789499189,
          52.41232129744103,
          52.39515532429674,
          52.35842552495925,
          52.37917922340114,
          52.34483762133912,
          52.29940994087049,
          52.357106235945146,
          52.32107248981744,
          52.31819307733939
         ],
         "legendgroup": "",
         "lon": [
          4.869094806293956,
          4.993318827764066,
          4.903828971989039,
          4.861558342157774,
          4.8872658060531355,
          4.875372470116941,
          4.89739779877326,
          4.862785691541877,
          4.915547653089226,
          4.930250093955085,
          4.919006634664378,
          4.851338011828931,
          4.939767437355596,
          4.900138113682592,
          4.953939976519506,
          4.835190403207114,
          4.818479058590898,
          4.800538719294779,
          4.9843413428329155,
          4.79887243651777,
          4.978686143600003,
          4.949001420104325
         ],
         "marker": {
          "color": "#636efa",
          "size": [
           5029.9,
           1495.8,
           315.55,
           314.91,
           312.39,
           294.35,
           288.64,
           274.35,
           272.02,
           255.68,
           245.56,
           234.27,
           220.89,
           204.39,
           198.38,
           189.23,
           188.05,
           182.93,
           174.06,
           162.64,
           156.62,
           147.42
          ],
          "sizemode": "area",
          "sizeref": 5.588777777777778
         },
         "mode": "markers",
         "name": "",
         "showlegend": false,
         "subplot": "mapbox",
         "type": "scattermapbox"
        }
       ],
       "layout": {
        "height": 600,
        "legend": {
         "itemsizing": "constant",
         "tracegroupgap": 0
        },
        "mapbox": {
         "center": {
          "lat": 52.35954515957196,
          "lon": 4.896623643633325
         },
         "domain": {
          "x": [
           0,
           1
          ],
          "y": [
           0,
           1
          ]
         },
         "style": "carto-positron",
         "zoom": 11
        },
        "margin": {
         "b": 0,
         "l": 0,
         "r": 0,
         "t": 0
        },
        "template": {
         "data": {
          "bar": [
           {
            "error_x": {
             "color": "#2a3f5f"
            },
            "error_y": {
             "color": "#2a3f5f"
            },
            "marker": {
             "line": {
              "color": "#E5ECF6",
              "width": 0.5
             },
             "pattern": {
              "fillmode": "overlay",
              "size": 10,
              "solidity": 0.2
             }
            },
            "type": "bar"
           }
          ],
          "barpolar": [
           {
            "marker": {
             "line": {
              "color": "#E5ECF6",
              "width": 0.5
             },
             "pattern": {
              "fillmode": "overlay",
              "size": 10,
              "solidity": 0.2
             }
            },
            "type": "barpolar"
           }
          ],
          "carpet": [
           {
            "aaxis": {
             "endlinecolor": "#2a3f5f",
             "gridcolor": "white",
             "linecolor": "white",
             "minorgridcolor": "white",
             "startlinecolor": "#2a3f5f"
            },
            "baxis": {
             "endlinecolor": "#2a3f5f",
             "gridcolor": "white",
             "linecolor": "white",
             "minorgridcolor": "white",
             "startlinecolor": "#2a3f5f"
            },
            "type": "carpet"
           }
          ],
          "choropleth": [
           {
            "colorbar": {
             "outlinewidth": 0,
             "ticks": ""
            },
            "type": "choropleth"
           }
          ],
          "contour": [
           {
            "colorbar": {
             "outlinewidth": 0,
             "ticks": ""
            },
            "colorscale": [
             [
              0,
              "#0d0887"
             ],
             [
              0.1111111111111111,
              "#46039f"
             ],
             [
              0.2222222222222222,
              "#7201a8"
             ],
             [
              0.3333333333333333,
              "#9c179e"
             ],
             [
              0.4444444444444444,
              "#bd3786"
             ],
             [
              0.5555555555555556,
              "#d8576b"
             ],
             [
              0.6666666666666666,
              "#ed7953"
             ],
             [
              0.7777777777777778,
              "#fb9f3a"
             ],
             [
              0.8888888888888888,
              "#fdca26"
             ],
             [
              1,
              "#f0f921"
             ]
            ],
            "type": "contour"
           }
          ],
          "contourcarpet": [
           {
            "colorbar": {
             "outlinewidth": 0,
             "ticks": ""
            },
            "type": "contourcarpet"
           }
          ],
          "heatmap": [
           {
            "colorbar": {
             "outlinewidth": 0,
             "ticks": ""
            },
            "colorscale": [
             [
              0,
              "#0d0887"
             ],
             [
              0.1111111111111111,
              "#46039f"
             ],
             [
              0.2222222222222222,
              "#7201a8"
             ],
             [
              0.3333333333333333,
              "#9c179e"
             ],
             [
              0.4444444444444444,
              "#bd3786"
             ],
             [
              0.5555555555555556,
              "#d8576b"
             ],
             [
              0.6666666666666666,
              "#ed7953"
             ],
             [
              0.7777777777777778,
              "#fb9f3a"
             ],
             [
              0.8888888888888888,
              "#fdca26"
             ],
             [
              1,
              "#f0f921"
             ]
            ],
            "type": "heatmap"
           }
          ],
          "heatmapgl": [
           {
            "colorbar": {
             "outlinewidth": 0,
             "ticks": ""
            },
            "colorscale": [
             [
              0,
              "#0d0887"
             ],
             [
              0.1111111111111111,
              "#46039f"
             ],
             [
              0.2222222222222222,
              "#7201a8"
             ],
             [
              0.3333333333333333,
              "#9c179e"
             ],
             [
              0.4444444444444444,
              "#bd3786"
             ],
             [
              0.5555555555555556,
              "#d8576b"
             ],
             [
              0.6666666666666666,
              "#ed7953"
             ],
             [
              0.7777777777777778,
              "#fb9f3a"
             ],
             [
              0.8888888888888888,
              "#fdca26"
             ],
             [
              1,
              "#f0f921"
             ]
            ],
            "type": "heatmapgl"
           }
          ],
          "histogram": [
           {
            "marker": {
             "pattern": {
              "fillmode": "overlay",
              "size": 10,
              "solidity": 0.2
             }
            },
            "type": "histogram"
           }
          ],
          "histogram2d": [
           {
            "colorbar": {
             "outlinewidth": 0,
             "ticks": ""
            },
            "colorscale": [
             [
              0,
              "#0d0887"
             ],
             [
              0.1111111111111111,
              "#46039f"
             ],
             [
              0.2222222222222222,
              "#7201a8"
             ],
             [
              0.3333333333333333,
              "#9c179e"
             ],
             [
              0.4444444444444444,
              "#bd3786"
             ],
             [
              0.5555555555555556,
              "#d8576b"
             ],
             [
              0.6666666666666666,
              "#ed7953"
             ],
             [
              0.7777777777777778,
              "#fb9f3a"
             ],
             [
              0.8888888888888888,
              "#fdca26"
             ],
             [
              1,
              "#f0f921"
             ]
            ],
            "type": "histogram2d"
           }
          ],
          "histogram2dcontour": [
           {
            "colorbar": {
             "outlinewidth": 0,
             "ticks": ""
            },
            "colorscale": [
             [
              0,
              "#0d0887"
             ],
             [
              0.1111111111111111,
              "#46039f"
             ],
             [
              0.2222222222222222,
              "#7201a8"
             ],
             [
              0.3333333333333333,
              "#9c179e"
             ],
             [
              0.4444444444444444,
              "#bd3786"
             ],
             [
              0.5555555555555556,
              "#d8576b"
             ],
             [
              0.6666666666666666,
              "#ed7953"
             ],
             [
              0.7777777777777778,
              "#fb9f3a"
             ],
             [
              0.8888888888888888,
              "#fdca26"
             ],
             [
              1,
              "#f0f921"
             ]
            ],
            "type": "histogram2dcontour"
           }
          ],
          "mesh3d": [
           {
            "colorbar": {
             "outlinewidth": 0,
             "ticks": ""
            },
            "type": "mesh3d"
           }
          ],
          "parcoords": [
           {
            "line": {
             "colorbar": {
              "outlinewidth": 0,
              "ticks": ""
             }
            },
            "type": "parcoords"
           }
          ],
          "pie": [
           {
            "automargin": true,
            "type": "pie"
           }
          ],
          "scatter": [
           {
            "fillpattern": {
             "fillmode": "overlay",
             "size": 10,
             "solidity": 0.2
            },
            "type": "scatter"
           }
          ],
          "scatter3d": [
           {
            "line": {
             "colorbar": {
              "outlinewidth": 0,
              "ticks": ""
             }
            },
            "marker": {
             "colorbar": {
              "outlinewidth": 0,
              "ticks": ""
             }
            },
            "type": "scatter3d"
           }
          ],
          "scattercarpet": [
           {
            "marker": {
             "colorbar": {
              "outlinewidth": 0,
              "ticks": ""
             }
            },
            "type": "scattercarpet"
           }
          ],
          "scattergeo": [
           {
            "marker": {
             "colorbar": {
              "outlinewidth": 0,
              "ticks": ""
             }
            },
            "type": "scattergeo"
           }
          ],
          "scattergl": [
           {
            "marker": {
             "colorbar": {
              "outlinewidth": 0,
              "ticks": ""
             }
            },
            "type": "scattergl"
           }
          ],
          "scattermapbox": [
           {
            "marker": {
             "colorbar": {
              "outlinewidth": 0,
              "ticks": ""
             }
            },
            "type": "scattermapbox"
           }
          ],
          "scatterpolar": [
           {
            "marker": {
             "colorbar": {
              "outlinewidth": 0,
              "ticks": ""
             }
            },
            "type": "scatterpolar"
           }
          ],
          "scatterpolargl": [
           {
            "marker": {
             "colorbar": {
              "outlinewidth": 0,
              "ticks": ""
             }
            },
            "type": "scatterpolargl"
           }
          ],
          "scatterternary": [
           {
            "marker": {
             "colorbar": {
              "outlinewidth": 0,
              "ticks": ""
             }
            },
            "type": "scatterternary"
           }
          ],
          "surface": [
           {
            "colorbar": {
             "outlinewidth": 0,
             "ticks": ""
            },
            "colorscale": [
             [
              0,
              "#0d0887"
             ],
             [
              0.1111111111111111,
              "#46039f"
             ],
             [
              0.2222222222222222,
              "#7201a8"
             ],
             [
              0.3333333333333333,
              "#9c179e"
             ],
             [
              0.4444444444444444,
              "#bd3786"
             ],
             [
              0.5555555555555556,
              "#d8576b"
             ],
             [
              0.6666666666666666,
              "#ed7953"
             ],
             [
              0.7777777777777778,
              "#fb9f3a"
             ],
             [
              0.8888888888888888,
              "#fdca26"
             ],
             [
              1,
              "#f0f921"
             ]
            ],
            "type": "surface"
           }
          ],
          "table": [
           {
            "cells": {
             "fill": {
              "color": "#EBF0F8"
             },
             "line": {
              "color": "white"
             }
            },
            "header": {
             "fill": {
              "color": "#C8D4E3"
             },
             "line": {
              "color": "white"
             }
            },
            "type": "table"
           }
          ]
         },
         "layout": {
          "annotationdefaults": {
           "arrowcolor": "#2a3f5f",
           "arrowhead": 0,
           "arrowwidth": 1
          },
          "autotypenumbers": "strict",
          "coloraxis": {
           "colorbar": {
            "outlinewidth": 0,
            "ticks": ""
           }
          },
          "colorscale": {
           "diverging": [
            [
             0,
             "#8e0152"
            ],
            [
             0.1,
             "#c51b7d"
            ],
            [
             0.2,
             "#de77ae"
            ],
            [
             0.3,
             "#f1b6da"
            ],
            [
             0.4,
             "#fde0ef"
            ],
            [
             0.5,
             "#f7f7f7"
            ],
            [
             0.6,
             "#e6f5d0"
            ],
            [
             0.7,
             "#b8e186"
            ],
            [
             0.8,
             "#7fbc41"
            ],
            [
             0.9,
             "#4d9221"
            ],
            [
             1,
             "#276419"
            ]
           ],
           "sequential": [
            [
             0,
             "#0d0887"
            ],
            [
             0.1111111111111111,
             "#46039f"
            ],
            [
             0.2222222222222222,
             "#7201a8"
            ],
            [
             0.3333333333333333,
             "#9c179e"
            ],
            [
             0.4444444444444444,
             "#bd3786"
            ],
            [
             0.5555555555555556,
             "#d8576b"
            ],
            [
             0.6666666666666666,
             "#ed7953"
            ],
            [
             0.7777777777777778,
             "#fb9f3a"
            ],
            [
             0.8888888888888888,
             "#fdca26"
            ],
            [
             1,
             "#f0f921"
            ]
           ],
           "sequentialminus": [
            [
             0,
             "#0d0887"
            ],
            [
             0.1111111111111111,
             "#46039f"
            ],
            [
             0.2222222222222222,
             "#7201a8"
            ],
            [
             0.3333333333333333,
             "#9c179e"
            ],
            [
             0.4444444444444444,
             "#bd3786"
            ],
            [
             0.5555555555555556,
             "#d8576b"
            ],
            [
             0.6666666666666666,
             "#ed7953"
            ],
            [
             0.7777777777777778,
             "#fb9f3a"
            ],
            [
             0.8888888888888888,
             "#fdca26"
            ],
            [
             1,
             "#f0f921"
            ]
           ]
          },
          "colorway": [
           "#636efa",
           "#EF553B",
           "#00cc96",
           "#ab63fa",
           "#FFA15A",
           "#19d3f3",
           "#FF6692",
           "#B6E880",
           "#FF97FF",
           "#FECB52"
          ],
          "font": {
           "color": "#2a3f5f"
          },
          "geo": {
           "bgcolor": "white",
           "lakecolor": "white",
           "landcolor": "#E5ECF6",
           "showlakes": true,
           "showland": true,
           "subunitcolor": "white"
          },
          "hoverlabel": {
           "align": "left"
          },
          "hovermode": "closest",
          "mapbox": {
           "style": "light"
          },
          "paper_bgcolor": "white",
          "plot_bgcolor": "#E5ECF6",
          "polar": {
           "angularaxis": {
            "gridcolor": "white",
            "linecolor": "white",
            "ticks": ""
           },
           "bgcolor": "#E5ECF6",
           "radialaxis": {
            "gridcolor": "white",
            "linecolor": "white",
            "ticks": ""
           }
          },
          "scene": {
           "xaxis": {
            "backgroundcolor": "#E5ECF6",
            "gridcolor": "white",
            "gridwidth": 2,
            "linecolor": "white",
            "showbackground": true,
            "ticks": "",
            "zerolinecolor": "white"
           },
           "yaxis": {
            "backgroundcolor": "#E5ECF6",
            "gridcolor": "white",
            "gridwidth": 2,
            "linecolor": "white",
            "showbackground": true,
            "ticks": "",
            "zerolinecolor": "white"
           },
           "zaxis": {
            "backgroundcolor": "#E5ECF6",
            "gridcolor": "white",
            "gridwidth": 2,
            "linecolor": "white",
            "showbackground": true,
            "ticks": "",
            "zerolinecolor": "white"
           }
          },
          "shapedefaults": {
           "line": {
            "color": "#2a3f5f"
           }
          },
          "ternary": {
           "aaxis": {
            "gridcolor": "white",
            "linecolor": "white",
            "ticks": ""
           },
           "baxis": {
            "gridcolor": "white",
            "linecolor": "white",
            "ticks": ""
           },
           "bgcolor": "#E5ECF6",
           "caxis": {
            "gridcolor": "white",
            "linecolor": "white",
            "ticks": ""
           }
          },
          "title": {
           "x": 0.05
          },
          "xaxis": {
           "automargin": true,
           "gridcolor": "white",
           "linecolor": "white",
           "ticks": "",
           "title": {
            "standoff": 15
           },
           "zerolinecolor": "white",
           "zerolinewidth": 2
          },
          "yaxis": {
           "automargin": true,
           "gridcolor": "white",
           "linecolor": "white",
           "ticks": "",
           "title": {
            "standoff": 15
           },
           "zerolinecolor": "white",
           "zerolinewidth": 2
          }
         }
        }
       }
      }
     },
     "metadata": {},
     "output_type": "display_data"
    }
   ],
   "source": [
    "fig = px.scatter_mapbox(\n",
    "    nei_counts,\n",
    "    lat=\"latitude\",\n",
    "    lon=\"longitude\",\n",
    "    size='price', \n",
    "    size_max=30,\n",
    "    hover_name=\"neighbourhood_cleansed\",\n",
    "    hover_data={'price' : True, 'latitude' : False, 'longitude' : False},\n",
    "    zoom=11,\n",
    "    height=600\n",
    ")\n",
    "\n",
    "fig.update_layout(mapbox_style=\"carto-positron\")\n",
    "fig.update_layout(margin={\"r\":0,\"t\":0,\"l\":0,\"b\":0})\n",
    "\n",
    "fig.show()"
   ]
  },
  {
   "cell_type": "code",
   "execution_count": 159,
   "metadata": {},
   "outputs": [
    {
     "data": {
      "image/png": "[encoded data removed]",
      "text/plain": [
       "<Figure size 640x480 with 1 Axes>"
      ]
     },
     "metadata": {},
     "output_type": "display_data"
    }
   ],
   "source": [
    "type_acc = listings['property_type'].value_counts()\n",
    "type_acc_df = type_acc.reset_index()\n",
    "# type_acc_df['count'].median()\n",
    "# type_acc_df.shape\n",
    "top_types = type_acc_df[type_acc_df['count'] > 20]\n",
    "\n",
    "ax1 = sns.barplot(top_types, y='property_type', x='count', hue='property_type', palette='vlag', legend=False)"
   ]
  },
  {
   "cell_type": "code",
   "execution_count": null,
   "metadata": {},
   "outputs": [],
   "source": []
  }
 ],
 "metadata": {
  "kernelspec": {
   "display_name": "Python 3",
   "language": "python",
   "name": "python3"
  },
  "language_info": {
   "codemirror_mode": {
    "name": "ipython",
    "version": 3
   },
   "file_extension": ".py",
   "mimetype": "text/x-python",
   "name": "python",
   "nbconvert_exporter": "python",
   "pygments_lexer": "ipython3",
   "version": "3.12.8"
  }
 },
 "nbformat": 4,
 "nbformat_minor": 2
}
